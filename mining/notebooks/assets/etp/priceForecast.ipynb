{
 "cells": [
  {
   "cell_type": "markdown",
   "id": "0e11eb69",
   "metadata": {},
   "source": [
    "# MCap Portfolio Price Forecast"
   ]
  },
  {
   "cell_type": "code",
   "execution_count": 1,
   "id": "0b8bd2fb",
   "metadata": {},
   "outputs": [],
   "source": [
    "'''\n",
    "    WARNING CONTROL to display or ignore all warnings\n",
    "'''\n",
    "import warnings; warnings.simplefilter('ignore') #switch betweeb 'default' and 'ignore'\n",
    "import traceback\n",
    "\n",
    "''' Set debug flag to view extended error messages; \n",
    "    else set it to False to turn off debugging mode '''\n",
    "debug = True"
   ]
  },
  {
   "cell_type": "code",
   "execution_count": 23,
   "id": "c228cabb",
   "metadata": {},
   "outputs": [
    {
     "name": "stdout",
     "output_type": "stream",
     "text": [
      "All functional APP-libraries in REZAWARE-package of REZAWARE-module imported successfully!\n",
      "All packages in utils ml timeseries ForecastModels imported successfully!\n",
      "All functional EXECSESSION-libraries in SPARK-package of LIB-module imported successfully!\n",
      "execSession Class initialization complete\n",
      "\n",
      "Class initialization and load complete!\n"
     ]
    }
   ],
   "source": [
    "import os\n",
    "import sys\n",
    "from datetime import datetime, date, timedelta\n",
    "\n",
    "sys.path.insert(1,\"/home/nuwan/workspace/rezaware/\")\n",
    "import rezaware as reza\n",
    "# from mining.modules.assets.etp import performIndex as indx\n",
    "from utils.modules.ml.timeseries import forecast as pred\n",
    "# from utils.modules.etl.load import sparkNoSQLwls as nosql\n",
    "from utils.modules.lib.spark import execSession as spark\n",
    "\n",
    "''' restart initiate classes '''\n",
    "if debug:\n",
    "    import importlib\n",
    "    reza = importlib.reload(reza)\n",
    "#     indx = importlib.reload(indx)\n",
    "    pred = importlib.reload(pred)\n",
    "#     nosql= importlib.reload(nosql)\n",
    "    spark= importlib.reload(spark)\n",
    "    \n",
    "__desc__ = \"analyze crypto market capitalization time series data\"\n",
    "clsTS =pred.ForecastModels(desc=__desc__)\n",
    "print(\"\\nClass initialization and load complete!\")"
   ]
  },
  {
   "cell_type": "code",
   "execution_count": 24,
   "id": "1a8f364e",
   "metadata": {},
   "outputs": [
    {
     "name": "stdout",
     "output_type": "stream",
     "text": [
      "[Error]function <@data.setter> Dataset cannot be empty\n",
      "Traceback (most recent call last):\n",
      "  File \"/home/nuwan/workspace/rezaware/utils/modules/ml/timeseries/forecast.py\", line 215, in data\n",
      "    raise AttributeError(\"Dataset cannot be empty\")\n",
      "AttributeError: Dataset cannot be empty\n",
      "\n"
     ]
    }
   ],
   "source": [
    "_forecast=clsTS.get_forecast(\n",
    "    ts_data=None,\n",
    "    date_attr=\"\",\n",
    ")\n",
    "_forecast"
   ]
  },
  {
   "cell_type": "code",
   "execution_count": null,
   "id": "fb589a9b",
   "metadata": {},
   "outputs": [],
   "source": []
  }
 ],
 "metadata": {
  "kernelspec": {
   "display_name": "Python 3 (ipykernel)",
   "language": "python",
   "name": "python3"
  },
  "language_info": {
   "codemirror_mode": {
    "name": "ipython",
    "version": 3
   },
   "file_extension": ".py",
   "mimetype": "text/x-python",
   "name": "python",
   "nbconvert_exporter": "python",
   "pygments_lexer": "ipython3",
   "version": "3.8.10"
  }
 },
 "nbformat": 4,
 "nbformat_minor": 5
}
