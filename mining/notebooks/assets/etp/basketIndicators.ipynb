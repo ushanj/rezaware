{
 "cells": [
  {
   "cell_type": "markdown",
   "id": "dff18268",
   "metadata": {},
   "source": [
    "# MCap Performance Index"
   ]
  },
  {
   "cell_type": "code",
   "execution_count": 3,
   "id": "3c41af45",
   "metadata": {},
   "outputs": [],
   "source": [
    "'''\n",
    "    WARNING CONTROL to display or ignore all warnings\n",
    "'''\n",
    "import warnings; warnings.simplefilter('ignore') #switch betweeb 'default' and 'ignore'\n",
    "import traceback\n",
    "\n",
    "''' Set debug flag to view extended error messages; \n",
    "    else set it to False to turn off debugging mode '''\n",
    "debug = True"
   ]
  },
  {
   "cell_type": "code",
   "execution_count": 4,
   "id": "c724eba0",
   "metadata": {},
   "outputs": [
    {
     "name": "stdout",
     "output_type": "stream",
     "text": [
      "All functional APP-libraries in REZAWARE-package of REZAWARE-module imported successfully!\n",
      "All functional PERFORMINDEX-libraries in ETP-package of ASSETS-module imported successfully!\n",
      "All packages in utils ml timeseries RollingStats imported successfully!\n",
      "All functional SPARKNOSQLWLS-libraries in LOAD-package of ETL-module imported successfully!\n",
      "All functional EXECSESSION-libraries in SPARK-package of LIB-module imported successfully!\n",
      "All functional SPARKCLEANNRICH-libraries in TRANSFORM-package of ETL-module imported successfully!\n",
      "sparkNoSQLwls Class initialization complete\n",
      "execSession Class initialization complete\n",
      "All functional DAILYTOPN-libraries in ETP-package of ASSETS-module imported successfully!\n",
      "All functional SPARKDBWLS-libraries in LOAD-package of ETL-module imported successfully!\n",
      "sparkNoSQLwls Class initialization complete\n",
      "dailyTopN Class initialization complete\n",
      "performIndex Class initialization complete\n",
      "execSession Class initialization complete\n",
      "sparkNoSQLwls Class initialization complete\n",
      "\n",
      "Class initialization and load complete!\n"
     ]
    }
   ],
   "source": [
    "import os\n",
    "import sys\n",
    "from datetime import datetime, date, timedelta\n",
    "\n",
    "sys.path.insert(1,\"/home/nuwan/workspace/rezaware/\")\n",
    "import rezaware as reza\n",
    "from mining.modules.assets.etp import performIndex as indx\n",
    "from utils.modules.ml.timeseries import rollingstats as stats\n",
    "from utils.modules.etl.load import sparkNoSQLwls as nosql\n",
    "from utils.modules.lib.spark import execSession as spark\n",
    "\n",
    "''' restart initiate classes '''\n",
    "if debug:\n",
    "    import importlib\n",
    "    reza = importlib.reload(reza)\n",
    "    indx = importlib.reload(indx)\n",
    "    stats= importlib.reload(stats)\n",
    "    nosql= importlib.reload(nosql)\n",
    "    spark= importlib.reload(spark)\n",
    "    \n",
    "__desc__ = \"analyze crypto market capitalization time series data\"\n",
    "clsIndx =indx.Portfolio(desc=__desc__)\n",
    "clsStat=stats.RollingStats(desc=__desc__)\n",
    "clsNoSQL=nosql.NoSQLWorkLoads(desc=__desc__)\n",
    "print(\"\\nClass initialization and load complete!\")"
   ]
  },
  {
   "cell_type": "markdown",
   "id": "d2e6e42d",
   "metadata": {},
   "source": [
    "## Read Portfolio"
   ]
  },
  {
   "cell_type": "code",
   "execution_count": 5,
   "id": "ea8d9b0b",
   "metadata": {},
   "outputs": [
    {
     "data": {
      "text/plain": [
       "[{'_id': ObjectId('63d4bb80badb4157b3025cb3'),\n",
       "  'date': '2022-01-10T00:00:00',\n",
       "  'asset': 'charg_coin',\n",
       "  'mcap.weight': 0.4453207926976063,\n",
       "  'mcap.ror': 0.6574680456259401,\n",
       "  'mcap.value': 1148729.3496556643},\n",
       " {'_id': ObjectId('63d4bb80badb4157b3025cb4'),\n",
       "  'date': '2022-01-10T00:00:00',\n",
       "  'asset': 'matryx',\n",
       "  'mcap.weight': 0.34821271988748376,\n",
       "  'mcap.ror': 0.2861116369010913,\n",
       "  'mcap.value': 2246173.234597205},\n",
       " {'_id': ObjectId('63d4bb80badb4157b3025cb5'),\n",
       "  'date': '2022-01-10T00:00:00',\n",
       "  'asset': 'bitcoinpos',\n",
       "  'mcap.weight': 0.20646648741490986,\n",
       "  'mcap.ror': 0.20342319564693787,\n",
       "  'mcap.value': 14522857.416871611}]"
      ]
     },
     "execution_count": 5,
     "metadata": {},
     "output_type": "execute_result"
    }
   ],
   "source": [
    "_db_coll=[\"mpt.top3.2022-01-10\",\"mpt.top3.2022-01-09\"]\n",
    "_coll_dt=date(2022,1,10)\n",
    "_mpt_port = clsIndx.get_portfolio(\n",
    "    db_name=\"tip-daily-mpt\",\n",
    "    db_coll=[],#_db_coll,\n",
    "    coll_date=_coll_dt,\n",
    ")\n",
    "_mpt_port"
   ]
  },
  {
   "cell_type": "markdown",
   "id": "aa2bad7a",
   "metadata": {},
   "source": [
    "## Compute Index Values\n",
    "Index computations\n",
    "* RSI - Relative Strength Index\n",
    "* DMI - Directional Movement Indicator\n",
    "* ADX - Average Directional Index"
   ]
  },
  {
   "cell_type": "markdown",
   "id": "5520f36f",
   "metadata": {},
   "source": [
    "### RSI"
   ]
  },
  {
   "cell_type": "code",
   "execution_count": null,
   "id": "67ae4db0",
   "metadata": {},
   "outputs": [],
   "source": [
    "''' TBD '''"
   ]
  },
  {
   "cell_type": "markdown",
   "id": "19e42bf2",
   "metadata": {},
   "source": [
    "### DMI\n",
    "* The [calculation is somewhat complex](https://www.investopedia.com/ask/answers/112814/what-directional-movement-index-dmi-formula-and-how-it-calculated.asp); defined in the class ```mining/modules/assets/etp/performIndex```.\n",
    "* [DMI indicates how strongly a price is moving](https://www.investopedia.com/articles/technical/02/050602.asp); ranges from a low of 0 to a high of 100.\n",
    "   * DMI+ trending upwards; \n",
    "      * DMI > 25 : price is directionally strong.\n",
    "      * Bullish - peak indicates a swing high.\n",
    "   * DMI- trending downwards;\n",
    "      * DMI < 25 : price is directionally weak.\n",
    "      * Bearish - peak low indicates a swing low.\n",
    "   * DMI+ > 25 & DMI- < 25 : buyers are stronger than sellers.\n",
    "   * DMI+ < 25 & DMI- > 25 : sellers are stronger than the buyers.\n",
    "* Strong uptrend will show a series of rising +DMI peaks that remain above the -DMI for extended periods of time\n",
    "* A [crossover](https://www.investopedia.com/terms/c/crossover.asp) indicates when to go long or short but __advised to look at other indicators__ because they frequently give false signals when volatility is low and late signals when volatility is high.\n",
    "* Use crossovers as the __first indication__ of a potential change in direction.\n",
    "* When price makes a new pivot high and the +DMI makes a new high is one method of __confirming an asset's uptrend__."
   ]
  },
  {
   "cell_type": "code",
   "execution_count": 6,
   "id": "a4805f6e",
   "metadata": {},
   "outputs": [
    {
     "name": "stdout",
     "output_type": "stream",
     "text": [
      "Wait a moment, retrieving data ...\n",
      "23/02/08 14:52:49 WARN Utils: Your hostname, FarmRaiderTester resolves to a loopback address: 127.0.1.1; using 192.168.124.15 instead (on interface enp2s0)\n",
      "23/02/08 14:52:49 WARN Utils: Set SPARK_LOCAL_IP if you need to bind to another address\n",
      "23/02/08 14:52:50 WARN NativeCodeLoader: Unable to load native-hadoop library for your platform... using builtin-java classes where applicable\n",
      "23/02/08 14:52:50 WARN FileSystem: Cannot load filesystem: java.util.ServiceConfigurationError: org.apache.hadoop.fs.FileSystem: com.google.cloud.hadoop.fs.gcs.GoogleHadoopFileSystem Unable to get public no-arg constructor\n",
      "23/02/08 14:52:50 WARN FileSystem: java.lang.NoClassDefFoundError: com/google/api/client/auth/oauth2/Credential\n",
      "23/02/08 14:52:50 WARN FileSystem: java.lang.ClassNotFoundException: com.google.api.client.auth.oauth2.Credential\n"
     ]
    },
    {
     "name": "stderr",
     "output_type": "stream",
     "text": [
      "Setting default log level to \"WARN\".\n",
      "To adjust logging level use sc.setLogLevel(newLevel). For SparkR, use setLogLevel(newLevel).\n"
     ]
    },
    {
     "name": "stdout",
     "output_type": "stream",
     "text": [
      "23/02/08 14:52:53 WARN Utils: Service 'SparkUI' could not bind on port 4040. Attempting port 4041.\n"
     ]
    },
    {
     "name": "stderr",
     "output_type": "stream",
     "text": [
      "                                                                                \r"
     ]
    },
    {
     "name": "stdout",
     "output_type": "stream",
     "text": [
      "[Error]function <index_wrapper> must be real number, not NoneType\n"
     ]
    },
    {
     "name": "stderr",
     "output_type": "stream",
     "text": [
      "                                                                                \r"
     ]
    },
    {
     "name": "stdout",
     "output_type": "stream",
     "text": [
      "Retrieved DMI idicator data with 18 columns and 24 rows\n"
     ]
    }
   ],
   "source": [
    "''' Get DMI data '''\n",
    "__idx_type__='dmi'\n",
    "_kwargs={\n",
    "    \"LOGCOLNAME\" :'log_ror',\n",
    "    \"PARTCOLNAME\":\"asset_name\",\n",
    "    \"VALCOLNAME\" :\"mcap_value\",\n",
    "    \"PREVALCOLNAME\":'mcap_prev_val',\n",
    "    \"DIFFCOLNAME\":'mcap_diff',\n",
    "    \"WINLENGTH\":7,\n",
    "    \"WINUNIT\":'DAY',\n",
    "}\n",
    "_idx = clsIndx.get_dmi_data(\n",
    "    dmi_sdf_= \n",
    "        val_col:str=\"log_ror\",\n",
    "        part_col:str=\"asset_name\",\n",
    "    **_kwargs,\n",
    ")\n",
    "\n",
    "print(\"Retrieved %s idicator data with %d columns and %d rows\"\n",
    "      % (__idx_type__.upper(),len(clsIndx.data.columns),clsIndx.data.count()))"
   ]
  },
  {
   "cell_type": "markdown",
   "id": "142a0e72",
   "metadata": {},
   "source": [
    "### ADX\n",
    "* Non-directional and ranges from a low of 0-100. \n",
    "* Registers trend strength whether price is trending up or down\n",
    "* Plotted in the same window as the DMI lines, from which ADX is derived "
   ]
  },
  {
   "cell_type": "code",
   "execution_count": 4,
   "id": "e8e607c2",
   "metadata": {},
   "outputs": [
    {
     "name": "stdout",
     "output_type": "stream",
     "text": [
      "Wait a moment, retrieving data ...\n",
      "23/02/07 10:36:01 WARN Utils: Your hostname, FarmRaiderTester resolves to a loopback address: 127.0.1.1; using 192.168.124.15 instead (on interface enp2s0)\n",
      "23/02/07 10:36:01 WARN Utils: Set SPARK_LOCAL_IP if you need to bind to another address\n",
      "23/02/07 10:36:02 WARN NativeCodeLoader: Unable to load native-hadoop library for your platform... using builtin-java classes where applicable\n",
      "23/02/07 10:36:02 WARN FileSystem: Cannot load filesystem: java.util.ServiceConfigurationError: org.apache.hadoop.fs.FileSystem: com.google.cloud.hadoop.fs.gcs.GoogleHadoopFileSystem Unable to get public no-arg constructor\n",
      "23/02/07 10:36:02 WARN FileSystem: java.lang.NoClassDefFoundError: com/google/api/client/auth/oauth2/Credential\n",
      "23/02/07 10:36:02 WARN FileSystem: java.lang.ClassNotFoundException: com.google.api.client.auth.oauth2.Credential\n"
     ]
    },
    {
     "name": "stderr",
     "output_type": "stream",
     "text": [
      "Setting default log level to \"WARN\".\n",
      "To adjust logging level use sc.setLogLevel(newLevel). For SparkR, use setLogLevel(newLevel).\n",
      "[Stage 377:>                                                        (0 + 1) / 2]\r"
     ]
    },
    {
     "name": "stdout",
     "output_type": "stream",
     "text": [
      "<class 'pyspark.sql.dataframe.DataFrame'> 0.4203415087858535\n",
      "Completed index computation for ADX = 0.4203\n"
     ]
    },
    {
     "name": "stderr",
     "output_type": "stream",
     "text": [
      "\r",
      "[Stage 377:============================>                            (1 + 1) / 2]\r",
      "\r",
      "                                                                                \r"
     ]
    }
   ],
   "source": [
    "__idx_type__='adx'\n",
    "_kwargs={\n",
    "    \"LOGCOLNAME\" :'log_ror',\n",
    "    \"PARTCOLNAME\":\"asset_name\",\n",
    "    \"VALCOLNAME\" :\"mcap_value\",\n",
    "    \"PREVALCOLNAME\":'mcap_prev_val',\n",
    "    \"DIFFCOLNAME\":'mcap_diff',\n",
    "    \"WINLENGTH\":7,\n",
    "    \"WINUNIT\":'DAY',\n",
    "}\n",
    "_idx = clsIndx.get_index(\n",
    "    portfolio=_mpt_port,\n",
    "    date=_coll_dt,\n",
    "    index_type=__idx_type__,\n",
    "    **_kwargs,\n",
    ")\n",
    "\n",
    "print(\"Completed index computation for %s = %0.4f\"\n",
    "      % (__idx_type__.upper(),_idx))"
   ]
  },
  {
   "cell_type": "code",
   "execution_count": 12,
   "id": "b5158252",
   "metadata": {},
   "outputs": [
    {
     "name": "stderr",
     "output_type": "stream",
     "text": [
      "                                                                                \r"
     ]
    },
    {
     "name": "stdout",
     "output_type": "stream",
     "text": [
      "+-------------------+--------------------+--------------------+--------------------+\n",
      "|          mcap_date|        weighted_+DI|        weighted_-DI|                 ADX|\n",
      "+-------------------+--------------------+--------------------+--------------------+\n",
      "|2022-01-03 00:00:00|                null|                null|                null|\n",
      "|2022-01-04 00:00:00|                null| 0.34821271988748376|                null|\n",
      "|2022-01-05 00:00:00| 0.17410635994374188| 0.06964254397749675|-0.42857142857142855|\n",
      "|2022-01-06 00:00:00| 0.06700901117698771| 0.11607079055825462| 0.26798029556650244|\n",
      "|2022-01-07 00:00:00|0.055675035357370006| 0.08705317997187094| 0.21984542118822697|\n",
      "|2022-01-08 00:00:00| 0.06964254397749675|  0.0693047776392059|-0.00243089492018...|\n",
      "|2022-01-09 00:00:00|0.058035569385487255|0.057719044023109525|-0.00273445138001...|\n",
      "|2022-01-10 00:00:00|0.046822423379670505| 0.04974462452496627| 0.03026085200597144|\n",
      "+-------------------+--------------------+--------------------+--------------------+\n",
      "\n"
     ]
    }
   ],
   "source": [
    "clsIndx.data.select(\n",
    "    F.col('mcap_date'),\n",
    "#     F.col('asset_name'),\n",
    "#     F.col('+DI'),\n",
    "#     F.col('-DI'),\n",
    "#     F.col('weight'),\n",
    "    F.col('weighted_+DI'),\n",
    "    F.col('weighted_-DI'),\n",
    "    F.col('ADX')\n",
    ").filter(F.col(\"asset_name\")=='matryx').show()"
   ]
  },
  {
   "cell_type": "code",
   "execution_count": 11,
   "id": "844420e7",
   "metadata": {},
   "outputs": [
    {
     "name": "stdout",
     "output_type": "stream",
     "text": [
      "root\n",
      " |-- mcap_date: timestamp (nullable = true)\n",
      " |-- asset_name: string (nullable = true)\n",
      " |-- mcap_value: decimal(38,16) (nullable = true)\n",
      " |-- mcap_value_prev_val: decimal(38,16) (nullable = true)\n",
      " |-- mcap_diff: decimal(38,15) (nullable = true)\n",
      " |-- log_ror: double (nullable = true)\n",
      " |-- +DM: decimal(38,18) (nullable = true)\n",
      " |-- -DM: decimal(38,18) (nullable = true)\n",
      " |-- sm_sum_+DM: decimal(38,18) (nullable = true)\n",
      " |-- sm_avg_+DM: decimal(38,22) (nullable = true)\n",
      " |-- sm_sum_-DM: decimal(38,18) (nullable = true)\n",
      " |-- sm_avg_-DM: decimal(38,22) (nullable = true)\n",
      " |-- shift_+DM: decimal(38,18) (nullable = true)\n",
      " |-- shift_-DM: decimal(38,18) (nullable = true)\n",
      " |-- smooth_+DM: decimal(38,16) (nullable = true)\n",
      " |-- smooth_-DM: decimal(38,16) (nullable = true)\n",
      " |-- +DI: decimal(38,6) (nullable = true)\n",
      " |-- -DI: decimal(38,6) (nullable = true)\n",
      " |-- weight: double (nullable = true)\n",
      " |-- weighted_+DI: double (nullable = true)\n",
      " |-- weighted_-DI: double (nullable = true)\n",
      " |-- ADX: double (nullable = true)\n",
      "\n"
     ]
    }
   ],
   "source": [
    "clsIndx.data.printSchema()"
   ]
  },
  {
   "cell_type": "code",
   "execution_count": 25,
   "id": "9734673d",
   "metadata": {},
   "outputs": [
    {
     "name": "stderr",
     "output_type": "stream",
     "text": [
      "                                                                                \r"
     ]
    },
    {
     "data": {
      "text/html": [
       "<div>\n",
       "<style scoped>\n",
       "    .dataframe tbody tr th:only-of-type {\n",
       "        vertical-align: middle;\n",
       "    }\n",
       "\n",
       "    .dataframe tbody tr th {\n",
       "        vertical-align: top;\n",
       "    }\n",
       "\n",
       "    .dataframe thead th {\n",
       "        text-align: right;\n",
       "    }\n",
       "</style>\n",
       "<table border=\"1\" class=\"dataframe\">\n",
       "  <thead>\n",
       "    <tr style=\"text-align: right;\">\n",
       "      <th></th>\n",
       "      <th>mcap_date</th>\n",
       "      <th>avg(weighted_+DI)</th>\n",
       "      <th>avg(weighted_-DI)</th>\n",
       "      <th>avg(ADX)</th>\n",
       "    </tr>\n",
       "  </thead>\n",
       "  <tbody>\n",
       "    <tr>\n",
       "      <th>0</th>\n",
       "      <td>2022-01-03</td>\n",
       "      <td>NaN</td>\n",
       "      <td>NaN</td>\n",
       "      <td>NaN</td>\n",
       "    </tr>\n",
       "    <tr>\n",
       "      <th>4</th>\n",
       "      <td>2022-01-04</td>\n",
       "      <td>NaN</td>\n",
       "      <td>0.333333</td>\n",
       "      <td>NaN</td>\n",
       "    </tr>\n",
       "    <tr>\n",
       "      <th>3</th>\n",
       "      <td>2022-01-05</td>\n",
       "      <td>0.138670</td>\n",
       "      <td>0.066822</td>\n",
       "      <td>-0.428571</td>\n",
       "    </tr>\n",
       "    <tr>\n",
       "      <th>6</th>\n",
       "      <td>2022-01-06</td>\n",
       "      <td>0.093739</td>\n",
       "      <td>0.110546</td>\n",
       "      <td>0.094980</td>\n",
       "    </tr>\n",
       "    <tr>\n",
       "      <th>7</th>\n",
       "      <td>2022-01-07</td>\n",
       "      <td>0.042850</td>\n",
       "      <td>0.083333</td>\n",
       "      <td>0.326906</td>\n",
       "    </tr>\n",
       "    <tr>\n",
       "      <th>2</th>\n",
       "      <td>2022-01-08</td>\n",
       "      <td>0.066667</td>\n",
       "      <td>0.064647</td>\n",
       "      <td>-0.025624</td>\n",
       "    </tr>\n",
       "    <tr>\n",
       "      <th>1</th>\n",
       "      <td>2022-01-09</td>\n",
       "      <td>0.054071</td>\n",
       "      <td>0.055450</td>\n",
       "      <td>0.022160</td>\n",
       "    </tr>\n",
       "    <tr>\n",
       "      <th>5</th>\n",
       "      <td>2022-01-10</td>\n",
       "      <td>0.046645</td>\n",
       "      <td>0.047462</td>\n",
       "      <td>0.007406</td>\n",
       "    </tr>\n",
       "  </tbody>\n",
       "</table>\n",
       "</div>"
      ],
      "text/plain": [
       "   mcap_date  avg(weighted_+DI)  avg(weighted_-DI)  avg(ADX)\n",
       "0 2022-01-03                NaN                NaN       NaN\n",
       "4 2022-01-04                NaN           0.333333       NaN\n",
       "3 2022-01-05           0.138670           0.066822 -0.428571\n",
       "6 2022-01-06           0.093739           0.110546  0.094980\n",
       "7 2022-01-07           0.042850           0.083333  0.326906\n",
       "2 2022-01-08           0.066667           0.064647 -0.025624\n",
       "1 2022-01-09           0.054071           0.055450  0.022160\n",
       "5 2022-01-10           0.046645           0.047462  0.007406"
      ]
     },
     "execution_count": 25,
     "metadata": {},
     "output_type": "execute_result"
    }
   ],
   "source": [
    "adx_df = clsIndx.data.groupBy('mcap_date')\\\n",
    "                .avg('weighted_+DI','weighted_-DI','ADX').toPandas()\n",
    "adx_df.sort_values(by='mcap_date',inplace=True)\n",
    "adx_df"
   ]
  },
  {
   "cell_type": "code",
   "execution_count": 26,
   "id": "f865db90",
   "metadata": {},
   "outputs": [
    {
     "name": "stderr",
     "output_type": "stream",
     "text": [
      "                                                                                \r"
     ]
    },
    {
     "data": {
      "application/vnd.plotly.v1+json": {
       "config": {
        "plotlyServerURL": "https://plot.ly"
       },
       "data": [
        {
         "hovertemplate": "variable=avg(weighted_+DI)<br>mcap_date=%{x}<br>value=%{y}<extra></extra>",
         "legendgroup": "avg(weighted_+DI)",
         "line": {
          "color": "#636efa",
          "dash": "solid"
         },
         "marker": {
          "symbol": "circle"
         },
         "mode": "lines",
         "name": "avg(weighted_+DI)",
         "orientation": "v",
         "showlegend": true,
         "type": "scatter",
         "x": [
          "2022-01-03T00:00:00",
          "2022-01-04T00:00:00",
          "2022-01-05T00:00:00",
          "2022-01-06T00:00:00",
          "2022-01-07T00:00:00",
          "2022-01-08T00:00:00",
          "2022-01-09T00:00:00",
          "2022-01-10T00:00:00"
         ],
         "xaxis": "x",
         "y": [
          null,
          null,
          0.1386698018255984,
          0.09373864317932241,
          0.0428495176149509,
          0.06666666666666667,
          0.05407062204485369,
          0.046644932951568074
         ],
         "yaxis": "y"
        },
        {
         "hovertemplate": "variable=avg(weighted_-DI)<br>mcap_date=%{x}<br>value=%{y}<extra></extra>",
         "legendgroup": "avg(weighted_-DI)",
         "line": {
          "color": "#EF553B",
          "dash": "solid"
         },
         "marker": {
          "symbol": "circle"
         },
         "mode": "lines",
         "name": "avg(weighted_-DI)",
         "orientation": "v",
         "showlegend": true,
         "type": "scatter",
         "x": [
          "2022-01-03T00:00:00",
          "2022-01-04T00:00:00",
          "2022-01-05T00:00:00",
          "2022-01-06T00:00:00",
          "2022-01-07T00:00:00",
          "2022-01-08T00:00:00",
          "2022-01-09T00:00:00",
          "2022-01-10T00:00:00"
         ],
         "xaxis": "x",
         "y": [
          null,
          0.3333333333333333,
          0.06682178674278967,
          0.11054603635433095,
          0.08333333333333333,
          0.06464680929865992,
          0.055450158212540755,
          0.04746208546956467
         ],
         "yaxis": "y"
        },
        {
         "hovertemplate": "variable=avg(ADX)<br>mcap_date=%{x}<br>value=%{y}<extra></extra>",
         "legendgroup": "avg(ADX)",
         "line": {
          "color": "#00cc96",
          "dash": "solid"
         },
         "marker": {
          "symbol": "circle"
         },
         "mode": "lines",
         "name": "avg(ADX)",
         "orientation": "v",
         "showlegend": true,
         "type": "scatter",
         "x": [
          "2022-01-03T00:00:00",
          "2022-01-04T00:00:00",
          "2022-01-05T00:00:00",
          "2022-01-06T00:00:00",
          "2022-01-07T00:00:00",
          "2022-01-08T00:00:00",
          "2022-01-09T00:00:00",
          "2022-01-10T00:00:00"
         ],
         "xaxis": "x",
         "y": [
          null,
          null,
          -0.4285714285714286,
          0.09497980829330134,
          0.32690637718653,
          -0.02562359199322888,
          0.02215997807641598,
          0.00740555041321848
         ],
         "yaxis": "y"
        }
       ],
       "layout": {
        "legend": {
         "title": {
          "text": "variable"
         },
         "tracegroupgap": 0
        },
        "template": {
         "data": {
          "bar": [
           {
            "error_x": {
             "color": "#2a3f5f"
            },
            "error_y": {
             "color": "#2a3f5f"
            },
            "marker": {
             "line": {
              "color": "#E5ECF6",
              "width": 0.5
             },
             "pattern": {
              "fillmode": "overlay",
              "size": 10,
              "solidity": 0.2
             }
            },
            "type": "bar"
           }
          ],
          "barpolar": [
           {
            "marker": {
             "line": {
              "color": "#E5ECF6",
              "width": 0.5
             },
             "pattern": {
              "fillmode": "overlay",
              "size": 10,
              "solidity": 0.2
             }
            },
            "type": "barpolar"
           }
          ],
          "carpet": [
           {
            "aaxis": {
             "endlinecolor": "#2a3f5f",
             "gridcolor": "white",
             "linecolor": "white",
             "minorgridcolor": "white",
             "startlinecolor": "#2a3f5f"
            },
            "baxis": {
             "endlinecolor": "#2a3f5f",
             "gridcolor": "white",
             "linecolor": "white",
             "minorgridcolor": "white",
             "startlinecolor": "#2a3f5f"
            },
            "type": "carpet"
           }
          ],
          "choropleth": [
           {
            "colorbar": {
             "outlinewidth": 0,
             "ticks": ""
            },
            "type": "choropleth"
           }
          ],
          "contour": [
           {
            "colorbar": {
             "outlinewidth": 0,
             "ticks": ""
            },
            "colorscale": [
             [
              0,
              "#0d0887"
             ],
             [
              0.1111111111111111,
              "#46039f"
             ],
             [
              0.2222222222222222,
              "#7201a8"
             ],
             [
              0.3333333333333333,
              "#9c179e"
             ],
             [
              0.4444444444444444,
              "#bd3786"
             ],
             [
              0.5555555555555556,
              "#d8576b"
             ],
             [
              0.6666666666666666,
              "#ed7953"
             ],
             [
              0.7777777777777778,
              "#fb9f3a"
             ],
             [
              0.8888888888888888,
              "#fdca26"
             ],
             [
              1,
              "#f0f921"
             ]
            ],
            "type": "contour"
           }
          ],
          "contourcarpet": [
           {
            "colorbar": {
             "outlinewidth": 0,
             "ticks": ""
            },
            "type": "contourcarpet"
           }
          ],
          "heatmap": [
           {
            "colorbar": {
             "outlinewidth": 0,
             "ticks": ""
            },
            "colorscale": [
             [
              0,
              "#0d0887"
             ],
             [
              0.1111111111111111,
              "#46039f"
             ],
             [
              0.2222222222222222,
              "#7201a8"
             ],
             [
              0.3333333333333333,
              "#9c179e"
             ],
             [
              0.4444444444444444,
              "#bd3786"
             ],
             [
              0.5555555555555556,
              "#d8576b"
             ],
             [
              0.6666666666666666,
              "#ed7953"
             ],
             [
              0.7777777777777778,
              "#fb9f3a"
             ],
             [
              0.8888888888888888,
              "#fdca26"
             ],
             [
              1,
              "#f0f921"
             ]
            ],
            "type": "heatmap"
           }
          ],
          "heatmapgl": [
           {
            "colorbar": {
             "outlinewidth": 0,
             "ticks": ""
            },
            "colorscale": [
             [
              0,
              "#0d0887"
             ],
             [
              0.1111111111111111,
              "#46039f"
             ],
             [
              0.2222222222222222,
              "#7201a8"
             ],
             [
              0.3333333333333333,
              "#9c179e"
             ],
             [
              0.4444444444444444,
              "#bd3786"
             ],
             [
              0.5555555555555556,
              "#d8576b"
             ],
             [
              0.6666666666666666,
              "#ed7953"
             ],
             [
              0.7777777777777778,
              "#fb9f3a"
             ],
             [
              0.8888888888888888,
              "#fdca26"
             ],
             [
              1,
              "#f0f921"
             ]
            ],
            "type": "heatmapgl"
           }
          ],
          "histogram": [
           {
            "marker": {
             "pattern": {
              "fillmode": "overlay",
              "size": 10,
              "solidity": 0.2
             }
            },
            "type": "histogram"
           }
          ],
          "histogram2d": [
           {
            "colorbar": {
             "outlinewidth": 0,
             "ticks": ""
            },
            "colorscale": [
             [
              0,
              "#0d0887"
             ],
             [
              0.1111111111111111,
              "#46039f"
             ],
             [
              0.2222222222222222,
              "#7201a8"
             ],
             [
              0.3333333333333333,
              "#9c179e"
             ],
             [
              0.4444444444444444,
              "#bd3786"
             ],
             [
              0.5555555555555556,
              "#d8576b"
             ],
             [
              0.6666666666666666,
              "#ed7953"
             ],
             [
              0.7777777777777778,
              "#fb9f3a"
             ],
             [
              0.8888888888888888,
              "#fdca26"
             ],
             [
              1,
              "#f0f921"
             ]
            ],
            "type": "histogram2d"
           }
          ],
          "histogram2dcontour": [
           {
            "colorbar": {
             "outlinewidth": 0,
             "ticks": ""
            },
            "colorscale": [
             [
              0,
              "#0d0887"
             ],
             [
              0.1111111111111111,
              "#46039f"
             ],
             [
              0.2222222222222222,
              "#7201a8"
             ],
             [
              0.3333333333333333,
              "#9c179e"
             ],
             [
              0.4444444444444444,
              "#bd3786"
             ],
             [
              0.5555555555555556,
              "#d8576b"
             ],
             [
              0.6666666666666666,
              "#ed7953"
             ],
             [
              0.7777777777777778,
              "#fb9f3a"
             ],
             [
              0.8888888888888888,
              "#fdca26"
             ],
             [
              1,
              "#f0f921"
             ]
            ],
            "type": "histogram2dcontour"
           }
          ],
          "mesh3d": [
           {
            "colorbar": {
             "outlinewidth": 0,
             "ticks": ""
            },
            "type": "mesh3d"
           }
          ],
          "parcoords": [
           {
            "line": {
             "colorbar": {
              "outlinewidth": 0,
              "ticks": ""
             }
            },
            "type": "parcoords"
           }
          ],
          "pie": [
           {
            "automargin": true,
            "type": "pie"
           }
          ],
          "scatter": [
           {
            "fillpattern": {
             "fillmode": "overlay",
             "size": 10,
             "solidity": 0.2
            },
            "type": "scatter"
           }
          ],
          "scatter3d": [
           {
            "line": {
             "colorbar": {
              "outlinewidth": 0,
              "ticks": ""
             }
            },
            "marker": {
             "colorbar": {
              "outlinewidth": 0,
              "ticks": ""
             }
            },
            "type": "scatter3d"
           }
          ],
          "scattercarpet": [
           {
            "marker": {
             "colorbar": {
              "outlinewidth": 0,
              "ticks": ""
             }
            },
            "type": "scattercarpet"
           }
          ],
          "scattergeo": [
           {
            "marker": {
             "colorbar": {
              "outlinewidth": 0,
              "ticks": ""
             }
            },
            "type": "scattergeo"
           }
          ],
          "scattergl": [
           {
            "marker": {
             "colorbar": {
              "outlinewidth": 0,
              "ticks": ""
             }
            },
            "type": "scattergl"
           }
          ],
          "scattermapbox": [
           {
            "marker": {
             "colorbar": {
              "outlinewidth": 0,
              "ticks": ""
             }
            },
            "type": "scattermapbox"
           }
          ],
          "scatterpolar": [
           {
            "marker": {
             "colorbar": {
              "outlinewidth": 0,
              "ticks": ""
             }
            },
            "type": "scatterpolar"
           }
          ],
          "scatterpolargl": [
           {
            "marker": {
             "colorbar": {
              "outlinewidth": 0,
              "ticks": ""
             }
            },
            "type": "scatterpolargl"
           }
          ],
          "scatterternary": [
           {
            "marker": {
             "colorbar": {
              "outlinewidth": 0,
              "ticks": ""
             }
            },
            "type": "scatterternary"
           }
          ],
          "surface": [
           {
            "colorbar": {
             "outlinewidth": 0,
             "ticks": ""
            },
            "colorscale": [
             [
              0,
              "#0d0887"
             ],
             [
              0.1111111111111111,
              "#46039f"
             ],
             [
              0.2222222222222222,
              "#7201a8"
             ],
             [
              0.3333333333333333,
              "#9c179e"
             ],
             [
              0.4444444444444444,
              "#bd3786"
             ],
             [
              0.5555555555555556,
              "#d8576b"
             ],
             [
              0.6666666666666666,
              "#ed7953"
             ],
             [
              0.7777777777777778,
              "#fb9f3a"
             ],
             [
              0.8888888888888888,
              "#fdca26"
             ],
             [
              1,
              "#f0f921"
             ]
            ],
            "type": "surface"
           }
          ],
          "table": [
           {
            "cells": {
             "fill": {
              "color": "#EBF0F8"
             },
             "line": {
              "color": "white"
             }
            },
            "header": {
             "fill": {
              "color": "#C8D4E3"
             },
             "line": {
              "color": "white"
             }
            },
            "type": "table"
           }
          ]
         },
         "layout": {
          "annotationdefaults": {
           "arrowcolor": "#2a3f5f",
           "arrowhead": 0,
           "arrowwidth": 1
          },
          "autotypenumbers": "strict",
          "coloraxis": {
           "colorbar": {
            "outlinewidth": 0,
            "ticks": ""
           }
          },
          "colorscale": {
           "diverging": [
            [
             0,
             "#8e0152"
            ],
            [
             0.1,
             "#c51b7d"
            ],
            [
             0.2,
             "#de77ae"
            ],
            [
             0.3,
             "#f1b6da"
            ],
            [
             0.4,
             "#fde0ef"
            ],
            [
             0.5,
             "#f7f7f7"
            ],
            [
             0.6,
             "#e6f5d0"
            ],
            [
             0.7,
             "#b8e186"
            ],
            [
             0.8,
             "#7fbc41"
            ],
            [
             0.9,
             "#4d9221"
            ],
            [
             1,
             "#276419"
            ]
           ],
           "sequential": [
            [
             0,
             "#0d0887"
            ],
            [
             0.1111111111111111,
             "#46039f"
            ],
            [
             0.2222222222222222,
             "#7201a8"
            ],
            [
             0.3333333333333333,
             "#9c179e"
            ],
            [
             0.4444444444444444,
             "#bd3786"
            ],
            [
             0.5555555555555556,
             "#d8576b"
            ],
            [
             0.6666666666666666,
             "#ed7953"
            ],
            [
             0.7777777777777778,
             "#fb9f3a"
            ],
            [
             0.8888888888888888,
             "#fdca26"
            ],
            [
             1,
             "#f0f921"
            ]
           ],
           "sequentialminus": [
            [
             0,
             "#0d0887"
            ],
            [
             0.1111111111111111,
             "#46039f"
            ],
            [
             0.2222222222222222,
             "#7201a8"
            ],
            [
             0.3333333333333333,
             "#9c179e"
            ],
            [
             0.4444444444444444,
             "#bd3786"
            ],
            [
             0.5555555555555556,
             "#d8576b"
            ],
            [
             0.6666666666666666,
             "#ed7953"
            ],
            [
             0.7777777777777778,
             "#fb9f3a"
            ],
            [
             0.8888888888888888,
             "#fdca26"
            ],
            [
             1,
             "#f0f921"
            ]
           ]
          },
          "colorway": [
           "#636efa",
           "#EF553B",
           "#00cc96",
           "#ab63fa",
           "#FFA15A",
           "#19d3f3",
           "#FF6692",
           "#B6E880",
           "#FF97FF",
           "#FECB52"
          ],
          "font": {
           "color": "#2a3f5f"
          },
          "geo": {
           "bgcolor": "white",
           "lakecolor": "white",
           "landcolor": "#E5ECF6",
           "showlakes": true,
           "showland": true,
           "subunitcolor": "white"
          },
          "hoverlabel": {
           "align": "left"
          },
          "hovermode": "closest",
          "mapbox": {
           "style": "light"
          },
          "paper_bgcolor": "white",
          "plot_bgcolor": "#E5ECF6",
          "polar": {
           "angularaxis": {
            "gridcolor": "white",
            "linecolor": "white",
            "ticks": ""
           },
           "bgcolor": "#E5ECF6",
           "radialaxis": {
            "gridcolor": "white",
            "linecolor": "white",
            "ticks": ""
           }
          },
          "scene": {
           "xaxis": {
            "backgroundcolor": "#E5ECF6",
            "gridcolor": "white",
            "gridwidth": 2,
            "linecolor": "white",
            "showbackground": true,
            "ticks": "",
            "zerolinecolor": "white"
           },
           "yaxis": {
            "backgroundcolor": "#E5ECF6",
            "gridcolor": "white",
            "gridwidth": 2,
            "linecolor": "white",
            "showbackground": true,
            "ticks": "",
            "zerolinecolor": "white"
           },
           "zaxis": {
            "backgroundcolor": "#E5ECF6",
            "gridcolor": "white",
            "gridwidth": 2,
            "linecolor": "white",
            "showbackground": true,
            "ticks": "",
            "zerolinecolor": "white"
           }
          },
          "shapedefaults": {
           "line": {
            "color": "#2a3f5f"
           }
          },
          "ternary": {
           "aaxis": {
            "gridcolor": "white",
            "linecolor": "white",
            "ticks": ""
           },
           "baxis": {
            "gridcolor": "white",
            "linecolor": "white",
            "ticks": ""
           },
           "bgcolor": "#E5ECF6",
           "caxis": {
            "gridcolor": "white",
            "linecolor": "white",
            "ticks": ""
           }
          },
          "title": {
           "x": 0.05
          },
          "xaxis": {
           "automargin": true,
           "gridcolor": "white",
           "linecolor": "white",
           "ticks": "",
           "title": {
            "standoff": 15
           },
           "zerolinecolor": "white",
           "zerolinewidth": 2
          },
          "yaxis": {
           "automargin": true,
           "gridcolor": "white",
           "linecolor": "white",
           "ticks": "",
           "title": {
            "standoff": 15
           },
           "zerolinecolor": "white",
           "zerolinewidth": 2
          }
         }
        },
        "title": {
         "text": "Weighted ADX 2022-01-03 00:00:00 to 2022-01-10 00:00:00"
        },
        "xaxis": {
         "anchor": "y",
         "domain": [
          0,
          1
         ],
         "dtick": "M1",
         "tickformat": "%b\n%Y",
         "title": {
          "text": "mcap_date"
         }
        },
        "yaxis": {
         "anchor": "x",
         "domain": [
          0,
          1
         ],
         "title": {
          "text": "value"
         }
        }
       }
      },
      "text/html": [
       "<div>                            <div id=\"22135719-a22f-429c-8c73-a6edd7cb6523\" class=\"plotly-graph-div\" style=\"height:525px; width:100%;\"></div>            <script type=\"text/javascript\">                require([\"plotly\"], function(Plotly) {                    window.PLOTLYENV=window.PLOTLYENV || {};                                    if (document.getElementById(\"22135719-a22f-429c-8c73-a6edd7cb6523\")) {                    Plotly.newPlot(                        \"22135719-a22f-429c-8c73-a6edd7cb6523\",                        [{\"hovertemplate\":\"variable=avg(weighted_+DI)<br>mcap_date=%{x}<br>value=%{y}<extra></extra>\",\"legendgroup\":\"avg(weighted_+DI)\",\"line\":{\"color\":\"#636efa\",\"dash\":\"solid\"},\"marker\":{\"symbol\":\"circle\"},\"mode\":\"lines\",\"name\":\"avg(weighted_+DI)\",\"orientation\":\"v\",\"showlegend\":true,\"x\":[\"2022-01-03T00:00:00\",\"2022-01-04T00:00:00\",\"2022-01-05T00:00:00\",\"2022-01-06T00:00:00\",\"2022-01-07T00:00:00\",\"2022-01-08T00:00:00\",\"2022-01-09T00:00:00\",\"2022-01-10T00:00:00\"],\"xaxis\":\"x\",\"y\":[null,null,0.1386698018255984,0.09373864317932241,0.0428495176149509,0.06666666666666667,0.05407062204485369,0.046644932951568074],\"yaxis\":\"y\",\"type\":\"scatter\"},{\"hovertemplate\":\"variable=avg(weighted_-DI)<br>mcap_date=%{x}<br>value=%{y}<extra></extra>\",\"legendgroup\":\"avg(weighted_-DI)\",\"line\":{\"color\":\"#EF553B\",\"dash\":\"solid\"},\"marker\":{\"symbol\":\"circle\"},\"mode\":\"lines\",\"name\":\"avg(weighted_-DI)\",\"orientation\":\"v\",\"showlegend\":true,\"x\":[\"2022-01-03T00:00:00\",\"2022-01-04T00:00:00\",\"2022-01-05T00:00:00\",\"2022-01-06T00:00:00\",\"2022-01-07T00:00:00\",\"2022-01-08T00:00:00\",\"2022-01-09T00:00:00\",\"2022-01-10T00:00:00\"],\"xaxis\":\"x\",\"y\":[null,0.3333333333333333,0.06682178674278967,0.11054603635433095,0.08333333333333333,0.06464680929865992,0.055450158212540755,0.04746208546956467],\"yaxis\":\"y\",\"type\":\"scatter\"},{\"hovertemplate\":\"variable=avg(ADX)<br>mcap_date=%{x}<br>value=%{y}<extra></extra>\",\"legendgroup\":\"avg(ADX)\",\"line\":{\"color\":\"#00cc96\",\"dash\":\"solid\"},\"marker\":{\"symbol\":\"circle\"},\"mode\":\"lines\",\"name\":\"avg(ADX)\",\"orientation\":\"v\",\"showlegend\":true,\"x\":[\"2022-01-03T00:00:00\",\"2022-01-04T00:00:00\",\"2022-01-05T00:00:00\",\"2022-01-06T00:00:00\",\"2022-01-07T00:00:00\",\"2022-01-08T00:00:00\",\"2022-01-09T00:00:00\",\"2022-01-10T00:00:00\"],\"xaxis\":\"x\",\"y\":[null,null,-0.4285714285714286,0.09497980829330134,0.32690637718653,-0.02562359199322888,0.02215997807641598,0.00740555041321848],\"yaxis\":\"y\",\"type\":\"scatter\"}],                        {\"template\":{\"data\":{\"histogram2dcontour\":[{\"type\":\"histogram2dcontour\",\"colorbar\":{\"outlinewidth\":0,\"ticks\":\"\"},\"colorscale\":[[0.0,\"#0d0887\"],[0.1111111111111111,\"#46039f\"],[0.2222222222222222,\"#7201a8\"],[0.3333333333333333,\"#9c179e\"],[0.4444444444444444,\"#bd3786\"],[0.5555555555555556,\"#d8576b\"],[0.6666666666666666,\"#ed7953\"],[0.7777777777777778,\"#fb9f3a\"],[0.8888888888888888,\"#fdca26\"],[1.0,\"#f0f921\"]]}],\"choropleth\":[{\"type\":\"choropleth\",\"colorbar\":{\"outlinewidth\":0,\"ticks\":\"\"}}],\"histogram2d\":[{\"type\":\"histogram2d\",\"colorbar\":{\"outlinewidth\":0,\"ticks\":\"\"},\"colorscale\":[[0.0,\"#0d0887\"],[0.1111111111111111,\"#46039f\"],[0.2222222222222222,\"#7201a8\"],[0.3333333333333333,\"#9c179e\"],[0.4444444444444444,\"#bd3786\"],[0.5555555555555556,\"#d8576b\"],[0.6666666666666666,\"#ed7953\"],[0.7777777777777778,\"#fb9f3a\"],[0.8888888888888888,\"#fdca26\"],[1.0,\"#f0f921\"]]}],\"heatmap\":[{\"type\":\"heatmap\",\"colorbar\":{\"outlinewidth\":0,\"ticks\":\"\"},\"colorscale\":[[0.0,\"#0d0887\"],[0.1111111111111111,\"#46039f\"],[0.2222222222222222,\"#7201a8\"],[0.3333333333333333,\"#9c179e\"],[0.4444444444444444,\"#bd3786\"],[0.5555555555555556,\"#d8576b\"],[0.6666666666666666,\"#ed7953\"],[0.7777777777777778,\"#fb9f3a\"],[0.8888888888888888,\"#fdca26\"],[1.0,\"#f0f921\"]]}],\"heatmapgl\":[{\"type\":\"heatmapgl\",\"colorbar\":{\"outlinewidth\":0,\"ticks\":\"\"},\"colorscale\":[[0.0,\"#0d0887\"],[0.1111111111111111,\"#46039f\"],[0.2222222222222222,\"#7201a8\"],[0.3333333333333333,\"#9c179e\"],[0.4444444444444444,\"#bd3786\"],[0.5555555555555556,\"#d8576b\"],[0.6666666666666666,\"#ed7953\"],[0.7777777777777778,\"#fb9f3a\"],[0.8888888888888888,\"#fdca26\"],[1.0,\"#f0f921\"]]}],\"contourcarpet\":[{\"type\":\"contourcarpet\",\"colorbar\":{\"outlinewidth\":0,\"ticks\":\"\"}}],\"contour\":[{\"type\":\"contour\",\"colorbar\":{\"outlinewidth\":0,\"ticks\":\"\"},\"colorscale\":[[0.0,\"#0d0887\"],[0.1111111111111111,\"#46039f\"],[0.2222222222222222,\"#7201a8\"],[0.3333333333333333,\"#9c179e\"],[0.4444444444444444,\"#bd3786\"],[0.5555555555555556,\"#d8576b\"],[0.6666666666666666,\"#ed7953\"],[0.7777777777777778,\"#fb9f3a\"],[0.8888888888888888,\"#fdca26\"],[1.0,\"#f0f921\"]]}],\"surface\":[{\"type\":\"surface\",\"colorbar\":{\"outlinewidth\":0,\"ticks\":\"\"},\"colorscale\":[[0.0,\"#0d0887\"],[0.1111111111111111,\"#46039f\"],[0.2222222222222222,\"#7201a8\"],[0.3333333333333333,\"#9c179e\"],[0.4444444444444444,\"#bd3786\"],[0.5555555555555556,\"#d8576b\"],[0.6666666666666666,\"#ed7953\"],[0.7777777777777778,\"#fb9f3a\"],[0.8888888888888888,\"#fdca26\"],[1.0,\"#f0f921\"]]}],\"mesh3d\":[{\"type\":\"mesh3d\",\"colorbar\":{\"outlinewidth\":0,\"ticks\":\"\"}}],\"scatter\":[{\"fillpattern\":{\"fillmode\":\"overlay\",\"size\":10,\"solidity\":0.2},\"type\":\"scatter\"}],\"parcoords\":[{\"type\":\"parcoords\",\"line\":{\"colorbar\":{\"outlinewidth\":0,\"ticks\":\"\"}}}],\"scatterpolargl\":[{\"type\":\"scatterpolargl\",\"marker\":{\"colorbar\":{\"outlinewidth\":0,\"ticks\":\"\"}}}],\"bar\":[{\"error_x\":{\"color\":\"#2a3f5f\"},\"error_y\":{\"color\":\"#2a3f5f\"},\"marker\":{\"line\":{\"color\":\"#E5ECF6\",\"width\":0.5},\"pattern\":{\"fillmode\":\"overlay\",\"size\":10,\"solidity\":0.2}},\"type\":\"bar\"}],\"scattergeo\":[{\"type\":\"scattergeo\",\"marker\":{\"colorbar\":{\"outlinewidth\":0,\"ticks\":\"\"}}}],\"scatterpolar\":[{\"type\":\"scatterpolar\",\"marker\":{\"colorbar\":{\"outlinewidth\":0,\"ticks\":\"\"}}}],\"histogram\":[{\"marker\":{\"pattern\":{\"fillmode\":\"overlay\",\"size\":10,\"solidity\":0.2}},\"type\":\"histogram\"}],\"scattergl\":[{\"type\":\"scattergl\",\"marker\":{\"colorbar\":{\"outlinewidth\":0,\"ticks\":\"\"}}}],\"scatter3d\":[{\"type\":\"scatter3d\",\"line\":{\"colorbar\":{\"outlinewidth\":0,\"ticks\":\"\"}},\"marker\":{\"colorbar\":{\"outlinewidth\":0,\"ticks\":\"\"}}}],\"scattermapbox\":[{\"type\":\"scattermapbox\",\"marker\":{\"colorbar\":{\"outlinewidth\":0,\"ticks\":\"\"}}}],\"scatterternary\":[{\"type\":\"scatterternary\",\"marker\":{\"colorbar\":{\"outlinewidth\":0,\"ticks\":\"\"}}}],\"scattercarpet\":[{\"type\":\"scattercarpet\",\"marker\":{\"colorbar\":{\"outlinewidth\":0,\"ticks\":\"\"}}}],\"carpet\":[{\"aaxis\":{\"endlinecolor\":\"#2a3f5f\",\"gridcolor\":\"white\",\"linecolor\":\"white\",\"minorgridcolor\":\"white\",\"startlinecolor\":\"#2a3f5f\"},\"baxis\":{\"endlinecolor\":\"#2a3f5f\",\"gridcolor\":\"white\",\"linecolor\":\"white\",\"minorgridcolor\":\"white\",\"startlinecolor\":\"#2a3f5f\"},\"type\":\"carpet\"}],\"table\":[{\"cells\":{\"fill\":{\"color\":\"#EBF0F8\"},\"line\":{\"color\":\"white\"}},\"header\":{\"fill\":{\"color\":\"#C8D4E3\"},\"line\":{\"color\":\"white\"}},\"type\":\"table\"}],\"barpolar\":[{\"marker\":{\"line\":{\"color\":\"#E5ECF6\",\"width\":0.5},\"pattern\":{\"fillmode\":\"overlay\",\"size\":10,\"solidity\":0.2}},\"type\":\"barpolar\"}],\"pie\":[{\"automargin\":true,\"type\":\"pie\"}]},\"layout\":{\"autotypenumbers\":\"strict\",\"colorway\":[\"#636efa\",\"#EF553B\",\"#00cc96\",\"#ab63fa\",\"#FFA15A\",\"#19d3f3\",\"#FF6692\",\"#B6E880\",\"#FF97FF\",\"#FECB52\"],\"font\":{\"color\":\"#2a3f5f\"},\"hovermode\":\"closest\",\"hoverlabel\":{\"align\":\"left\"},\"paper_bgcolor\":\"white\",\"plot_bgcolor\":\"#E5ECF6\",\"polar\":{\"bgcolor\":\"#E5ECF6\",\"angularaxis\":{\"gridcolor\":\"white\",\"linecolor\":\"white\",\"ticks\":\"\"},\"radialaxis\":{\"gridcolor\":\"white\",\"linecolor\":\"white\",\"ticks\":\"\"}},\"ternary\":{\"bgcolor\":\"#E5ECF6\",\"aaxis\":{\"gridcolor\":\"white\",\"linecolor\":\"white\",\"ticks\":\"\"},\"baxis\":{\"gridcolor\":\"white\",\"linecolor\":\"white\",\"ticks\":\"\"},\"caxis\":{\"gridcolor\":\"white\",\"linecolor\":\"white\",\"ticks\":\"\"}},\"coloraxis\":{\"colorbar\":{\"outlinewidth\":0,\"ticks\":\"\"}},\"colorscale\":{\"sequential\":[[0.0,\"#0d0887\"],[0.1111111111111111,\"#46039f\"],[0.2222222222222222,\"#7201a8\"],[0.3333333333333333,\"#9c179e\"],[0.4444444444444444,\"#bd3786\"],[0.5555555555555556,\"#d8576b\"],[0.6666666666666666,\"#ed7953\"],[0.7777777777777778,\"#fb9f3a\"],[0.8888888888888888,\"#fdca26\"],[1.0,\"#f0f921\"]],\"sequentialminus\":[[0.0,\"#0d0887\"],[0.1111111111111111,\"#46039f\"],[0.2222222222222222,\"#7201a8\"],[0.3333333333333333,\"#9c179e\"],[0.4444444444444444,\"#bd3786\"],[0.5555555555555556,\"#d8576b\"],[0.6666666666666666,\"#ed7953\"],[0.7777777777777778,\"#fb9f3a\"],[0.8888888888888888,\"#fdca26\"],[1.0,\"#f0f921\"]],\"diverging\":[[0,\"#8e0152\"],[0.1,\"#c51b7d\"],[0.2,\"#de77ae\"],[0.3,\"#f1b6da\"],[0.4,\"#fde0ef\"],[0.5,\"#f7f7f7\"],[0.6,\"#e6f5d0\"],[0.7,\"#b8e186\"],[0.8,\"#7fbc41\"],[0.9,\"#4d9221\"],[1,\"#276419\"]]},\"xaxis\":{\"gridcolor\":\"white\",\"linecolor\":\"white\",\"ticks\":\"\",\"title\":{\"standoff\":15},\"zerolinecolor\":\"white\",\"automargin\":true,\"zerolinewidth\":2},\"yaxis\":{\"gridcolor\":\"white\",\"linecolor\":\"white\",\"ticks\":\"\",\"title\":{\"standoff\":15},\"zerolinecolor\":\"white\",\"automargin\":true,\"zerolinewidth\":2},\"scene\":{\"xaxis\":{\"backgroundcolor\":\"#E5ECF6\",\"gridcolor\":\"white\",\"linecolor\":\"white\",\"showbackground\":true,\"ticks\":\"\",\"zerolinecolor\":\"white\",\"gridwidth\":2},\"yaxis\":{\"backgroundcolor\":\"#E5ECF6\",\"gridcolor\":\"white\",\"linecolor\":\"white\",\"showbackground\":true,\"ticks\":\"\",\"zerolinecolor\":\"white\",\"gridwidth\":2},\"zaxis\":{\"backgroundcolor\":\"#E5ECF6\",\"gridcolor\":\"white\",\"linecolor\":\"white\",\"showbackground\":true,\"ticks\":\"\",\"zerolinecolor\":\"white\",\"gridwidth\":2}},\"shapedefaults\":{\"line\":{\"color\":\"#2a3f5f\"}},\"annotationdefaults\":{\"arrowcolor\":\"#2a3f5f\",\"arrowhead\":0,\"arrowwidth\":1},\"geo\":{\"bgcolor\":\"white\",\"landcolor\":\"#E5ECF6\",\"subunitcolor\":\"white\",\"showland\":true,\"showlakes\":true,\"lakecolor\":\"white\"},\"title\":{\"x\":0.05},\"mapbox\":{\"style\":\"light\"}}},\"xaxis\":{\"anchor\":\"y\",\"domain\":[0.0,1.0],\"title\":{\"text\":\"mcap_date\"},\"dtick\":\"M1\",\"tickformat\":\"%b\\n%Y\"},\"yaxis\":{\"anchor\":\"x\",\"domain\":[0.0,1.0],\"title\":{\"text\":\"value\"}},\"legend\":{\"title\":{\"text\":\"variable\"},\"tracegroupgap\":0},\"title\":{\"text\":\"Weighted ADX 2022-01-03 00:00:00 to 2022-01-10 00:00:00\"}},                        {\"responsive\": true}                    ).then(function(){\n",
       "                            \n",
       "var gd = document.getElementById('22135719-a22f-429c-8c73-a6edd7cb6523');\n",
       "var x = new MutationObserver(function (mutations, observer) {{\n",
       "        var display = window.getComputedStyle(gd).display;\n",
       "        if (!display || display === 'none') {{\n",
       "            console.log([gd, 'removed!']);\n",
       "            Plotly.purge(gd);\n",
       "            observer.disconnect();\n",
       "        }}\n",
       "}});\n",
       "\n",
       "// Listen for the removal of the full notebook cells\n",
       "var notebookContainer = gd.closest('#notebook-container');\n",
       "if (notebookContainer) {{\n",
       "    x.observe(notebookContainer, {childList: true});\n",
       "}}\n",
       "\n",
       "// Listen for the clearing of the current output cell\n",
       "var outputEl = gd.closest('.output');\n",
       "if (outputEl) {{\n",
       "    x.observe(outputEl, {childList: true});\n",
       "}}\n",
       "\n",
       "                        })                };                });            </script>        </div>"
      ]
     },
     "metadata": {},
     "output_type": "display_data"
    }
   ],
   "source": [
    "import plotly.express as px\n",
    "from pyspark.sql import functions as F\n",
    "\n",
    "# adx_df = clsIndx.data.filter(F.col(\"asset_name\")==\"charg_coin\").toPandas()\n",
    "adx_df = clsIndx.data.groupBy('mcap_date')\\\n",
    "                .avg('weighted_+DI','weighted_-DI','ADX').toPandas()\n",
    "adx_df.sort_values(by='mcap_date',inplace=True)\n",
    "_min_date = adx_df[\"mcap_date\"].min()\n",
    "_max_date = adx_df[\"mcap_date\"].max()\n",
    "_title = \"Weighted ADX \"+str(_min_date)+\" to \"+str(_max_date)\n",
    "fig = px.line(adx_df, x=\"mcap_date\",\n",
    "              y=['avg(weighted_+DI)','avg(weighted_-DI)','avg(ADX)'],\n",
    "#               color='red',\n",
    "#               hover_data={\"mcap_date\": \"|%B %d, %Y\", \"asset_name\": True,},\n",
    "              title=_title,)\n",
    "fig.update_xaxes(\n",
    "    dtick=\"M1\",\n",
    "    tickformat=\"%b\\n%Y\")\n",
    "fig.show()\n"
   ]
  },
  {
   "cell_type": "markdown",
   "id": "263f89fe",
   "metadata": {},
   "source": [
    "# SMA"
   ]
  },
  {
   "cell_type": "code",
   "execution_count": 260,
   "id": "0b09c0f2",
   "metadata": {},
   "outputs": [],
   "source": [
    "_mcap_log_ror=clsIndx.data.na.drop(subset=['log_ror'])"
   ]
  },
  {
   "cell_type": "code",
   "execution_count": 264,
   "id": "173f7330",
   "metadata": {},
   "outputs": [],
   "source": [
    "kwargs={\n",
    "    \"DATETIMEATTR\":'mcap_date',\n",
    "    \"WINLENGTH\":7,\n",
    "    \"WINUNIT\":'DAY',\n",
    "}\n",
    "_sma_sdf=clsStat.simple_moving_stats(\n",
    "    column='log_ror',   # column name to apply the rolling computation\n",
    "    stat_op=\"avg\", # stat operation sum, mean or standard deviation\n",
    "    data=_mcap_log_ror,   # data set\n",
    "    **kwargs,    # \n",
    ")\n"
   ]
  },
  {
   "cell_type": "code",
   "execution_count": 266,
   "id": "469ac705",
   "metadata": {},
   "outputs": [
    {
     "name": "stdout",
     "output_type": "stream",
     "text": [
      "23/02/01 16:09:25 WARN WindowExec: No Partition Defined for Window operation! Moving all data to a single partition, this can cause serious performance degradation.\n",
      "23/02/01 16:09:25 WARN WindowExec: No Partition Defined for Window operation! Moving all data to a single partition, this can cause serious performance degradation.\n",
      "23/02/01 16:09:25 WARN WindowExec: No Partition Defined for Window operation! Moving all data to a single partition, this can cause serious performance degradation.\n"
     ]
    },
    {
     "name": "stderr",
     "output_type": "stream",
     "text": [
      "\r",
      "[Stage 3624:>                                                       (0 + 1) / 1]\r"
     ]
    },
    {
     "name": "stdout",
     "output_type": "stream",
     "text": [
      "23/02/01 16:09:52 WARN WindowExec: No Partition Defined for Window operation! Moving all data to a single partition, this can cause serious performance degradation.\n",
      "23/02/01 16:09:52 WARN WindowExec: No Partition Defined for Window operation! Moving all data to a single partition, this can cause serious performance degradation.\n",
      "23/02/01 16:09:52 WARN WindowExec: No Partition Defined for Window operation! Moving all data to a single partition, this can cause serious performance degradation.\n",
      "23/02/01 16:09:52 WARN WindowExec: No Partition Defined for Window operation! Moving all data to a single partition, this can cause serious performance degradation.\n"
     ]
    },
    {
     "name": "stderr",
     "output_type": "stream",
     "text": [
      "\r",
      "                                                                                \r"
     ]
    },
    {
     "name": "stdout",
     "output_type": "stream",
     "text": [
      "23/02/01 16:09:53 WARN WindowExec: No Partition Defined for Window operation! Moving all data to a single partition, this can cause serious performance degradation.\n",
      "23/02/01 16:09:53 WARN WindowExec: No Partition Defined for Window operation! Moving all data to a single partition, this can cause serious performance degradation.\n",
      "23/02/01 16:09:53 WARN WindowExec: No Partition Defined for Window operation! Moving all data to a single partition, this can cause serious performance degradation.\n",
      "23/02/01 16:09:53 WARN WindowExec: No Partition Defined for Window operation! Moving all data to a single partition, this can cause serious performance degradation.\n",
      "23/02/01 16:09:53 WARN WindowExec: No Partition Defined for Window operation! Moving all data to a single partition, this can cause serious performance degradation.\n",
      "23/02/01 16:09:53 WARN WindowExec: No Partition Defined for Window operation! Moving all data to a single partition, this can cause serious performance degradation.\n",
      "23/02/01 16:09:54 WARN WindowExec: No Partition Defined for Window operation! Moving all data to a single partition, this can cause serious performance degradation.\n",
      "23/02/01 16:09:54 WARN WindowExec: No Partition Defined for Window operation! Moving all data to a single partition, this can cause serious performance degradation.\n",
      "+--------------------+--------------------+\n",
      "|             log_ror| rolling_avg_log_ror|\n",
      "+--------------------+--------------------+\n",
      "| -0.2487131958281502|-0.08290439860938341|\n",
      "|                 0.0|-0.08290439860938341|\n",
      "|                 0.0|-0.08290439860938341|\n",
      "|                 0.0|-0.02841945708021078|\n",
      "|                 0.0|-0.02841945708021078|\n",
      "| 0.07819645334688553|-0.02841945708021078|\n",
      "|                 0.0|-0.00296174852233...|\n",
      "|                 0.0|-0.00296174852233...|\n",
      "|  0.1438610057802389|-0.00296174852233...|\n",
      "|   -1.29111191099808| -0.1470098009608272|\n",
      "| -0.3930320886120946| -0.1470098009608272|\n",
      "|-0.05331787521872595| -0.1470098009608272|\n",
      "| 0.06901209078750543|-0.08061035275575448|\n",
      "| 0.09291810204538865|-0.08061035275575448|\n",
      "| 0.39303212736071513|-0.08061035275575448|\n",
      "| 0.08202055433500906| 0.06457323026583855|\n",
      "|  0.6300364267965319| 0.06457323026583855|\n",
      "|  1.6594164549898702| 0.06457323026583855|\n",
      "| -1.7626070847382742|-0.08138057753398922|\n",
      "| -0.7212189707881447|-0.08138057753398922|\n",
      "+--------------------+--------------------+\n",
      "only showing top 20 rows\n",
      "\n"
     ]
    }
   ],
   "source": [
    "_sma_sdf.select([\"log_ror\",\"rolling_avg_log_ror\"]).show()"
   ]
  },
  {
   "cell_type": "code",
   "execution_count": null,
   "id": "ee312d0e",
   "metadata": {},
   "outputs": [],
   "source": []
  }
 ],
 "metadata": {
  "kernelspec": {
   "display_name": "Python 3 (ipykernel)",
   "language": "python",
   "name": "python3"
  },
  "language_info": {
   "codemirror_mode": {
    "name": "ipython",
    "version": 3
   },
   "file_extension": ".py",
   "mimetype": "text/x-python",
   "name": "python",
   "nbconvert_exporter": "python",
   "pygments_lexer": "ipython3",
   "version": "3.8.10"
  }
 },
 "nbformat": 4,
 "nbformat_minor": 5
}
