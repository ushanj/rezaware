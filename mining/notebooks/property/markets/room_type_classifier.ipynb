{
 "cells": [
  {
   "cell_type": "markdown",
   "id": "4d7c550e",
   "metadata": {},
   "source": [
    "# Market Room Type Classifier\n",
    "In this notebook we experiment the NLP and K-means clustering functions for standarizing the room types from the OTA property scrapped data."
   ]
  },
  {
   "cell_type": "code",
   "execution_count": 1,
   "id": "622ba6de",
   "metadata": {},
   "outputs": [],
   "source": [
    "'''\n",
    "    WARNING CONTROL to display or ignore all warnings\n",
    "'''\n",
    "import warnings; warnings.simplefilter('ignore')     #switch betweeb 'default' and 'ignore'\n",
    "import traceback\n",
    "\n",
    "''' Set debug flag to view extended error messages; else set it to False to turn off debugging mode '''\n",
    "debug = True"
   ]
  },
  {
   "cell_type": "code",
   "execution_count": 2,
   "id": "5863d895",
   "metadata": {},
   "outputs": [
    {
     "name": "stdout",
     "output_type": "stream",
     "text": [
      "All functional APP-libraries in REZAWARE-package of REZAWARE-module imported successfully!\n",
      "All functional FILEWORKLOADS-libraries in LOAD-package of ETL-module imported successfully!\n",
      "All functional NATLANWORKLOADS-libraries in NATLANG-package of ML-module imported successfully!\n",
      "All functional CLUSTERWORKLOADS-libraries in CLUSTER-package of ML-module imported successfully!\n",
      "All functional APP-libraries in REZAWARE-package of REZAWARE-module imported successfully!\n",
      "All functional FILEWORKLOADS-libraries in LOAD-package of ETL-module imported successfully!\n",
      "All functional NATLANWORKLOADS-libraries in NATLANG-package of ML-module imported successfully!\n",
      "All functional CLUSTERWORKLOADS-libraries in CLUSTER-package of ML-module imported successfully!\n",
      "FileWorkLoads Class initialization complete\n",
      "ClusterWorkLoads Class initialization complete\n",
      "NatLanWorkLoads Class initialization complete\n",
      "\n",
      "Class initialization and load complete!\n"
     ]
    }
   ],
   "source": [
    "import os\n",
    "import sys\n",
    "\n",
    "sys.path.insert(1,\"/home/nuwan/workspace/rezaware/\")\n",
    "import rezaware as reza\n",
    "from utils.modules.etl.load import sparkFILEwls as files\n",
    "from utils.modules.ml.natlang import nlp \n",
    "from utils.modules.ml.cluster import points \n",
    "\n",
    "''' restart initiate classes '''\n",
    "if debug:\n",
    "    import importlib\n",
    "    reza = importlib.reload(reza)\n",
    "    rw = importlib.reload(files)\n",
    "    nlp = importlib.reload(nlp)\n",
    "    points = importlib.reload(points)\n",
    "    \n",
    "__desc__ = \"cluster and classify room types\"\n",
    "clsRW = files.FileWorkLoads(desc=__desc__)\n",
    "clsCL = points.ClusterWorkLoads(desc=__desc__)\n",
    "clsNLP = nlp.NatLanWorkLoads(desc=__desc__)\n",
    "print(\"\\nClass initialization and load complete!\")"
   ]
  },
  {
   "cell_type": "markdown",
   "id": "ce248fd0",
   "metadata": {},
   "source": [
    "## Read data into DataFrame"
   ]
  },
  {
   "cell_type": "code",
   "execution_count": 3,
   "id": "f656a401",
   "metadata": {
    "scrolled": true
   },
   "outputs": [
    {
     "name": "stdout",
     "output_type": "stream",
     "text": [
      "22/12/29 16:12:02 WARN Utils: Your hostname, FarmRaiderTester resolves to a loopback address: 127.0.1.1; using 192.168.124.15 instead (on interface enp2s0)\n",
      "22/12/29 16:12:02 WARN Utils: Set SPARK_LOCAL_IP if you need to bind to another address\n",
      "22/12/29 16:12:05 WARN NativeCodeLoader: Unable to load native-hadoop library for your platform... using builtin-java classes where applicable\n"
     ]
    },
    {
     "name": "stderr",
     "output_type": "stream",
     "text": [
      "Setting default log level to \"WARN\".\n",
      "To adjust logging level use sc.setLogLevel(newLevel). For SparkR, use setLogLevel(newLevel).\n"
     ]
    },
    {
     "name": "stdout",
     "output_type": "stream",
     "text": [
      "22/12/29 16:12:10 WARN Utils: Service 'SparkUI' could not bind on port 4040. Attempting port 4041.\n"
     ]
    },
    {
     "name": "stderr",
     "output_type": "stream",
     "text": [
      "                                                                                \r"
     ]
    },
    {
     "data": {
      "text/html": [
       "<div>\n",
       "<style scoped>\n",
       "    .dataframe tbody tr th:only-of-type {\n",
       "        vertical-align: middle;\n",
       "    }\n",
       "\n",
       "    .dataframe tbody tr th {\n",
       "        vertical-align: top;\n",
       "    }\n",
       "\n",
       "    .dataframe thead th {\n",
       "        text-align: right;\n",
       "    }\n",
       "</style>\n",
       "<table border=\"1\" class=\"dataframe\">\n",
       "  <thead>\n",
       "    <tr style=\"text-align: right;\">\n",
       "      <th></th>\n",
       "      <th>ota_name</th>\n",
       "      <th>search_dt</th>\n",
       "      <th>checkin_date</th>\n",
       "      <th>destination_id</th>\n",
       "      <th>property_name</th>\n",
       "      <th>room_type</th>\n",
       "      <th>room_rate</th>\n",
       "      <th>review_score</th>\n",
       "      <th>location_desc</th>\n",
       "      <th>other_info</th>\n",
       "    </tr>\n",
       "  </thead>\n",
       "  <tbody>\n",
       "    <tr>\n",
       "      <th>0</th>\n",
       "      <td>booking.com</td>\n",
       "      <td>2022-10-04 21:00:00</td>\n",
       "      <td>2022-10-04</td>\n",
       "      <td>20023181</td>\n",
       "      <td>Chic and Modern, Brickell / Miami + FREE Parking</td>\n",
       "      <td>One-Bedroom Apartment</td>\n",
       "      <td>US$151</td>\n",
       "      <td>8.2</td>\n",
       "      <td>Brickell, MiamiShow on map0.7 miles from centre</td>\n",
       "      <td>One-Bedroom ApartmentEntire apartment • 1 bedr...</td>\n",
       "    </tr>\n",
       "    <tr>\n",
       "      <th>1</th>\n",
       "      <td>booking.com</td>\n",
       "      <td>2022-10-04 21:00:00</td>\n",
       "      <td>2022-10-04</td>\n",
       "      <td>20023181</td>\n",
       "      <td>Two Bedroom Oceanview Apartment in Brickell</td>\n",
       "      <td>Two-Bedroom Apartment</td>\n",
       "      <td>US$185</td>\n",
       "      <td>7.7</td>\n",
       "      <td>Brickell, MiamiShow on map0.7 miles from centre</td>\n",
       "      <td>Two-Bedroom ApartmentEntire apartment • 2 bedr...</td>\n",
       "    </tr>\n",
       "    <tr>\n",
       "      <th>2</th>\n",
       "      <td>booking.com</td>\n",
       "      <td>2022-10-04 21:00:00</td>\n",
       "      <td>2022-10-04</td>\n",
       "      <td>20023181</td>\n",
       "      <td>Huge Room in a House, Near the Airport and Cos...</td>\n",
       "      <td>Double Room</td>\n",
       "      <td>US$51</td>\n",
       "      <td>8.7</td>\n",
       "      <td>Little Havana, MiamiShow on map3.6 miles from ...</td>\n",
       "      <td>Double Room1 large double bedOnly 1 room left ...</td>\n",
       "    </tr>\n",
       "  </tbody>\n",
       "</table>\n",
       "</div>"
      ],
      "text/plain": [
       "      ota_name           search_dt checkin_date  destination_id  \\\n",
       "0  booking.com 2022-10-04 21:00:00   2022-10-04        20023181   \n",
       "1  booking.com 2022-10-04 21:00:00   2022-10-04        20023181   \n",
       "2  booking.com 2022-10-04 21:00:00   2022-10-04        20023181   \n",
       "\n",
       "                                       property_name              room_type  \\\n",
       "0   Chic and Modern, Brickell / Miami + FREE Parking  One-Bedroom Apartment   \n",
       "1        Two Bedroom Oceanview Apartment in Brickell  Two-Bedroom Apartment   \n",
       "2  Huge Room in a House, Near the Airport and Cos...            Double Room   \n",
       "\n",
       "  room_rate  review_score                                      location_desc  \\\n",
       "0    US$151           8.2    Brickell, MiamiShow on map0.7 miles from centre   \n",
       "1    US$185           7.7    Brickell, MiamiShow on map0.7 miles from centre   \n",
       "2     US$51           8.7  Little Havana, MiamiShow on map3.6 miles from ...   \n",
       "\n",
       "                                          other_info  \n",
       "0  One-Bedroom ApartmentEntire apartment • 1 bedr...  \n",
       "1  Two-Bedroom ApartmentEntire apartment • 2 bedr...  \n",
       "2  Double Room1 large double bedOnly 1 room left ...  "
      ]
     },
     "execution_count": 3,
     "metadata": {},
     "output_type": "execute_result"
    }
   ],
   "source": [
    "__fpath__ = os.path.join(\"/home/nuwan/workspace/rezaware/\",\n",
    "                        \"wrangler/data/ota/scraper/hospitality/bookings/rates/2022-10-4-13-0\")\n",
    "read_kwargs = {\n",
    "    \"HEADER\":\"true\",\n",
    "    \"INFERSCHEMA\":\"true\",\n",
    "    \"RECURSIVELOOKUP\":\"true\",\n",
    "    \"TO_PANDAS\":True,\n",
    "}\n",
    "_data = clsRW.read_csv_to_sdf(\n",
    "    filesPath = __fpath__,\n",
    "    **read_kwargs,\n",
    ")\n",
    "_data.head(3)"
   ]
  },
  {
   "cell_type": "code",
   "execution_count": null,
   "id": "48189d02",
   "metadata": {},
   "outputs": [],
   "source": []
  },
  {
   "cell_type": "markdown",
   "id": "ecbbe552",
   "metadata": {},
   "source": [
    "## Get room type embeddings "
   ]
  },
  {
   "cell_type": "code",
   "execution_count": 4,
   "id": "85cb8b2c",
   "metadata": {},
   "outputs": [
    {
     "name": "stdout",
     "output_type": "stream",
     "text": [
      "[Error]function <create_embedding> name 'pre_trained_models' is not defined\n",
      "Traceback (most recent call last):\n",
      "  File \"/home/nuwan/workspace/rezaware/utils/modules/ml/natlang/nlp.py\", line 146, in get_sentence_embeddings\n",
      "    if model_name in pre_trained_models:\n",
      "NameError: name 'pre_trained_models' is not defined\n",
      "\n",
      "0        Chic and Modern, Brickell / Miami + FREE Parking\n",
      "1             Two Bedroom Oceanview Apartment in Brickell\n",
      "2       Huge Room in a House, Near the Airport and Cos...\n",
      "3             Pool home next to Brickell and Key Biscayne\n",
      "4                 Gorgeous 2br/2bth in the heart of Miami\n",
      "                              ...                        \n",
      "8471             Comfy 1BD 1BTH Apt in Boston City Center\n",
      "8472    2BD Modern and Spacious Apt in the Heart of Bo...\n",
      "8473                             The Ritz-Carlton, Boston\n",
      "8474             Comfy 1BD 1BTH Apt in Boston City Center\n",
      "8475    2BD Modern and Spacious Apt in the Heart of Bo...\n",
      "Name: property_name, Length: 8476, dtype: object \n",
      "\n",
      " None\n"
     ]
    }
   ],
   "source": [
    "_se_props = {\n",
    "    \"NOSTOPWORDS\":True,\n",
    "    \"LOWER\":True,\n",
    "}\n",
    "_sent,_emb = clsNLP.get_sentence_embeddings(\n",
    "    sentences=_data['property_name'],   # list of word ngrams\n",
    "    model_name='distilbert-base-nli-mean-tokens',   # https://www.sbert.net/docs/pretrained_models.html\n",
    "    kwargs=_se_props\n",
    "\n",
    ")\n",
    "print(_sent, \"\\n\\n\", _emb)"
   ]
  },
  {
   "cell_type": "markdown",
   "id": "0960eefb",
   "metadata": {},
   "source": [
    "## Label data with kmeans clusters"
   ]
  },
  {
   "cell_type": "code",
   "execution_count": 161,
   "id": "e3f7c17f",
   "metadata": {},
   "outputs": [
    {
     "name": "stdout",
     "output_type": "stream",
     "text": [
      "<class 'numpy.ndarray'>\n"
     ]
    },
    {
     "data": {
      "text/plain": [
       "array([2, 9, 9, ..., 8, 9, 9], dtype=int32)"
      ]
     },
     "execution_count": 161,
     "metadata": {},
     "output_type": "execute_result"
    }
   ],
   "source": [
    "__category__ = \"KMEANS\"\n",
    "__columns__ = ['destination_id','review_score']\n",
    "clust_props = {\n",
    "    \"NCLUSTERS\":10,\n",
    "    \"MAXITERATIONS\":200,\n",
    "    \"CENTROIDINIT\":5,\n",
    "    \"RANDOMSTATE\":0,\n",
    "}\n",
    "_cl_data = clsCL.cluster_n_label_data(\n",
    "    data = _emb,#_data.dropna(),\n",
    "    category = __category__,\n",
    "    columns = __columns__,\n",
    "    **clust_props\n",
    ")\n",
    "clsCL.clusters"
   ]
  },
  {
   "cell_type": "code",
   "execution_count": null,
   "id": "768f66ac",
   "metadata": {},
   "outputs": [],
   "source": []
  }
 ],
 "metadata": {
  "kernelspec": {
   "display_name": "Python 3 (ipykernel)",
   "language": "python",
   "name": "python3"
  },
  "language_info": {
   "codemirror_mode": {
    "name": "ipython",
    "version": 3
   },
   "file_extension": ".py",
   "mimetype": "text/x-python",
   "name": "python",
   "nbconvert_exporter": "python",
   "pygments_lexer": "ipython3",
   "version": "3.8.10"
  }
 },
 "nbformat": 4,
 "nbformat_minor": 5
}
