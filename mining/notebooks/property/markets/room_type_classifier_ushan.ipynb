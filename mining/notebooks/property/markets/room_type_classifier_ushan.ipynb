{
 "cells": [
  {
   "cell_type": "markdown",
   "id": "4d7c550e",
   "metadata": {},
   "source": [
    "# Market Room Type Classifier\n",
    "In this notebook we experiment the NLP and K-means clustering functions for standarizing the room types from the OTA property scrapped data."
   ]
  },
  {
   "cell_type": "code",
   "execution_count": 11,
   "id": "622ba6de",
   "metadata": {},
   "outputs": [],
   "source": [
    "'''\n",
    "    WARNING CONTROL to display or ignore all warnings\n",
    "'''\n",
    "import warnings; warnings.simplefilter('ignore')     #switch betweeb 'default' and 'ignore'\n",
    "import traceback\n",
    "\n",
    "''' Set debug flag to view extended error messages; else set it to False to turn off debugging mode '''\n",
    "debug = True"
   ]
  },
  {
   "cell_type": "code",
   "execution_count": 12,
   "id": "5863d895",
   "metadata": {},
   "outputs": [
    {
     "name": "stdout",
     "output_type": "stream",
     "text": [
      "All functional APP-libraries in REZAWARE-package of REZAWARE-module imported successfully!\n",
      "Some packages in ETL module LOAD package for FILEWORKLOADS function didn't load\n",
      "No module named 'google'\n",
      "All functional NATLANWORKLOADS-libraries in NATLANG-package of ML-module imported successfully!\n",
      "All functional CLUSTERWORKLOADS-libraries in CLUSTER-package of ML-module imported successfully!\n",
      "FileWorkLoads Class initialization complete\n",
      "ClusterWorkLoads Class initialization complete\n",
      "NatLanWorkLoads Class initialization complete\n",
      "\n",
      "Class initialization and load complete!\n"
     ]
    }
   ],
   "source": [
    "import os\n",
    "import sys\n",
    "\n",
    "sys.path.insert(1,\"/home/ushan/workspace/rezaware/\")\n",
    "import rezaware as reza\n",
    "from utils.modules.etl.load import sparkFILEwls as files\n",
    "from utils.modules.ml.natlang import nlp \n",
    "from utils.modules.ml.cluster import points \n",
    "\n",
    "''' restart initiate classes '''\n",
    "if debug:\n",
    "    import importlib\n",
    "    reza = importlib.reload(reza)\n",
    "    rw = importlib.reload(files)\n",
    "    nlp = importlib.reload(nlp)\n",
    "    points = importlib.reload(points)\n",
    "    \n",
    "__desc__ = \"cluster and classify room types\"\n",
    "clsRW = files.FileWorkLoads(desc=__desc__)\n",
    "clsCL = points.ClusterWorkLoads(desc=__desc__)\n",
    "clsNLP = nlp.NatLanWorkLoads(desc=__desc__)\n",
    "print(\"\\nClass initialization and load complete!\")"
   ]
  },
  {
   "cell_type": "markdown",
   "id": "ce248fd0",
   "metadata": {},
   "source": [
    "## Read data into DataFrame"
   ]
  },
  {
   "cell_type": "code",
   "execution_count": 15,
   "id": "f656a401",
   "metadata": {
    "scrolled": true
   },
   "outputs": [],
   "source": [
    "# __fpath__ = os.path.join(\"/home/ushan/workspace/rezaware/\",\n",
    "#                         \"wrangler/data/ota/scraper/hospitality/bookings/rates/2022-10-4-13-0\")\n",
    "# read_kwargs = {\n",
    "#     \"HEADER\":\"true\",\n",
    "#     \"INFERSCHEMA\":\"true\",\n",
    "#     \"RECURSIVELOOKUP\":\"true\",\n",
    "#     \"TO_PANDAS\":True,\n",
    "# }\n",
    "# _data = clsRW.read_csv_to_sdf(\n",
    "#     filesPath = __fpath__,\n",
    "#     **read_kwargs,\n",
    "# )\n",
    "# _data.head(3)"
   ]
  },
  {
   "cell_type": "code",
   "execution_count": 13,
   "id": "108ddf55",
   "metadata": {},
   "outputs": [
    {
     "name": "stdout",
     "output_type": "stream",
     "text": [
      "FileWorkLoads Class initialization complete\n"
     ]
    }
   ],
   "source": [
    "import os\n",
    "import sys\n",
    "\n",
    "sys.path.insert(1,\"/home/ushan/workspace/rezaware/\")\n",
    "import rezaware as reza\n",
    "from utils.modules.etl.load import sparkFILEwls as spark\n",
    "from utils.modules.etl.load.sparkFILEwls import credentials as cred\n",
    "\n",
    "clsSpark = spark.FileWorkLoads(desc=__desc__)"
   ]
  },
  {
   "cell_type": "code",
   "execution_count": 62,
   "id": "060d2155",
   "metadata": {
    "scrolled": true
   },
   "outputs": [],
   "source": [
    "clsSpark.storeMode = \"local-fs\"\n",
    "clsSpark.storeRoot = \"/home/ushan/workspace/rezaware\"\n",
    "# clsSpark.storeRoot = \"rezaware-wrangler-source-code\"\n",
    "# clsSpark.storeRoot = \"tip-daily-marketcap\"   #\"rezaware-wrangler-source-code\"\n",
    "print(\"data_root =\",clsSpark.storeRoot)\n",
    "\n",
    "\n",
    "__as_type__ = \"pandas\"  # specify data type to return from read file\n",
    "# folder or key path\n",
    "__local_folder_path__ = \"wrangler/data/ota/scraper/hospitality/bookings/rates/2022-10-4-13-0\"\n",
    "# __aws_folder_path__ = \"wrangler/data/hospitality/bookings/scraper/\"\n",
    "# __gcs_folder_path__ = \"coingeko\"\n",
    "\n",
    "__local_file_name__ = None  #file name to read from or write data to\n",
    "# __file_name__ = \"scraper-build-scrape-url-list.csv\" #\"room_descriptions.csv\"\n",
    "# __gcs_file_name__ = \"2022-11-21.json\"  #file name to read from or write data to\n",
    "__file_type__ = \"csv\"   # specify file type to write data to or read from\n",
    "''' options key value pairs must match the pyspark standard'''\n",
    "options = {\n",
    "    \"inferSchema\":True,\n",
    "    \"header\":True,\n",
    "    \"delimiter\":\",\",\n",
    "}\n",
    "\n",
    "_data = clsSpark.read_files_to_dtype(\n",
    "    as_type=__as_type__,\n",
    "    folder_path=__local_folder_path__,\n",
    "    file_name=__local_file_name__,\n",
    "    file_type=__file_type__,\n",
    "    **options,\n",
    ")\n",
    "# if __as_type__ == 'pandas':\n",
    "#     print(\"got back {0} rows with return dtype {1}\"\n",
    "#           .format(_data.shape[0],__as_type__))\n",
    "#     print(_data.head(5))\n",
    "# elif __as_type__ == 'spark':\n",
    "#     print(\"got back {0} rows with return dtype {1}\"\n",
    "#           .format(_data.count(),__as_type__))\n",
    "#     print(_data.show(5,truncate=False))\n",
    "# elif __as_type__ == 'dict':\n",
    "#     print(\"got back {0} rows with return dtype {1}\"\n",
    "#           .format(len(_data),__as_type__))\n",
    "#     print(_data)\n",
    "# else:\n",
    "#     print('Unrecognised __as_type__' % __as_type__)"
   ]
  },
  {
   "cell_type": "code",
   "execution_count": 18,
   "id": "bcd603ad",
   "metadata": {},
   "outputs": [
    {
     "data": {
      "text/html": [
       "<div>\n",
       "<style scoped>\n",
       "    .dataframe tbody tr th:only-of-type {\n",
       "        vertical-align: middle;\n",
       "    }\n",
       "\n",
       "    .dataframe tbody tr th {\n",
       "        vertical-align: top;\n",
       "    }\n",
       "\n",
       "    .dataframe thead th {\n",
       "        text-align: right;\n",
       "    }\n",
       "</style>\n",
       "<table border=\"1\" class=\"dataframe\">\n",
       "  <thead>\n",
       "    <tr style=\"text-align: right;\">\n",
       "      <th></th>\n",
       "      <th>Search DateTime</th>\n",
       "      <th>Checkin Date</th>\n",
       "      <th>Property Name</th>\n",
       "      <th>Room Type</th>\n",
       "      <th>Room Rate</th>\n",
       "      <th>Review Score</th>\n",
       "      <th>Destination ID</th>\n",
       "      <th>Location Desc</th>\n",
       "      <th>Other Info</th>\n",
       "    </tr>\n",
       "  </thead>\n",
       "  <tbody>\n",
       "    <tr>\n",
       "      <th>5085</th>\n",
       "      <td>2022-09-09 16:14:05.613613</td>\n",
       "      <td>2022-09-09</td>\n",
       "      <td>@ Marbella Lane Mountain View Studio, steps fr...</td>\n",
       "      <td>Studio Apartment</td>\n",
       "      <td>US$296</td>\n",
       "      <td>7.4</td>\n",
       "      <td>20030916</td>\n",
       "      <td>Waikiki, HonoluluShow on map3.4 miles from centre</td>\n",
       "      <td>Studio ApartmentEntire apartment • 1 bedroom •...</td>\n",
       "    </tr>\n",
       "    <tr>\n",
       "      <th>5086</th>\n",
       "      <td>2022-09-09 16:14:05.613613</td>\n",
       "      <td>2022-09-09</td>\n",
       "      <td>THE TIKI SUITE at WAIKIKI BANYAN</td>\n",
       "      <td>One-Bedroom Apartment</td>\n",
       "      <td>US$225</td>\n",
       "      <td>9.0</td>\n",
       "      <td>20030916</td>\n",
       "      <td>Waikiki, HonoluluShow on map3.3 miles from centre</td>\n",
       "      <td>One-Bedroom ApartmentEntire apartment • 1 bedr...</td>\n",
       "    </tr>\n",
       "  </tbody>\n",
       "</table>\n",
       "</div>"
      ],
      "text/plain": [
       "                Search DateTime Checkin Date  \\\n",
       "5085 2022-09-09 16:14:05.613613   2022-09-09   \n",
       "5086 2022-09-09 16:14:05.613613   2022-09-09   \n",
       "\n",
       "                                          Property Name  \\\n",
       "5085  @ Marbella Lane Mountain View Studio, steps fr...   \n",
       "5086                   THE TIKI SUITE at WAIKIKI BANYAN   \n",
       "\n",
       "                  Room Type Room Rate  Review Score  Destination ID  \\\n",
       "5085       Studio Apartment    US$296           7.4        20030916   \n",
       "5086  One-Bedroom Apartment    US$225           9.0        20030916   \n",
       "\n",
       "                                          Location Desc  \\\n",
       "5085  Waikiki, HonoluluShow on map3.4 miles from centre   \n",
       "5086  Waikiki, HonoluluShow on map3.3 miles from centre   \n",
       "\n",
       "                                             Other Info  \n",
       "5085  Studio ApartmentEntire apartment • 1 bedroom •...  \n",
       "5086  One-Bedroom ApartmentEntire apartment • 1 bedr...  "
      ]
     },
     "execution_count": 18,
     "metadata": {},
     "output_type": "execute_result"
    }
   ],
   "source": [
    "_data.tail(2)"
   ]
  },
  {
   "cell_type": "code",
   "execution_count": 16,
   "id": "2dc2561a",
   "metadata": {},
   "outputs": [
    {
     "data": {
      "text/plain": [
       "'/home/ushan/workspace/rezaware'"
      ]
     },
     "execution_count": 16,
     "metadata": {},
     "output_type": "execute_result"
    }
   ],
   "source": [
    "clsSpark.storeRoot"
   ]
  },
  {
   "cell_type": "code",
   "execution_count": 24,
   "id": "0efa4b2f",
   "metadata": {},
   "outputs": [
    {
     "name": "stdout",
     "output_type": "stream",
     "text": [
      "<class 'pandas.core.frame.DataFrame'>\n",
      "RangeIndex: 5087 entries, 0 to 5086\n",
      "Data columns (total 9 columns):\n",
      " #   Column           Non-Null Count  Dtype         \n",
      "---  ------           --------------  -----         \n",
      " 0   Search DateTime  5087 non-null   datetime64[ns]\n",
      " 1   Checkin Date     5087 non-null   datetime64[ns]\n",
      " 2   Property Name    5087 non-null   object        \n",
      " 3   Room Type        5087 non-null   object        \n",
      " 4   Room Rate        5087 non-null   object        \n",
      " 5   Review Score     5087 non-null   float64       \n",
      " 6   Destination ID   5087 non-null   int32         \n",
      " 7   Location Desc    5087 non-null   object        \n",
      " 8   Other Info       5087 non-null   object        \n",
      "dtypes: datetime64[ns](2), float64(1), int32(1), object(5)\n",
      "memory usage: 337.9+ KB\n",
      "23/01/18 17:17:19 INFO BlockManagerInfo: Removed broadcast_10_piece0 on ushan-Inspiron-5558.lan:45609 in memory (size: 34.2 KiB, free: 434.4 MiB)\n",
      "23/01/18 17:17:19 INFO BlockManagerInfo: Removed broadcast_23_piece0 on ushan-Inspiron-5558.lan:45609 in memory (size: 34.2 KiB, free: 434.4 MiB)\n"
     ]
    }
   ],
   "source": [
    "_data.info()"
   ]
  },
  {
   "cell_type": "code",
   "execution_count": 26,
   "id": "3a27fcca",
   "metadata": {},
   "outputs": [],
   "source": [
    "_data.rename(columns = {'Search DateTime':'search_dt' , 'Checkin Date':'checkin_date', 'Property Name':'property_name' ,'Room Type':'room_type' ,'Room Rate':'room_rate' ,'Review Score':'review_score' ,'Destination ID':'destination_ID' ,'Location Desc':'location_desc' ,'Other Info': 'other_info'    }, inplace = True)\n",
    "\n"
   ]
  },
  {
   "cell_type": "markdown",
   "id": "d4f9f46c",
   "metadata": {},
   "source": [
    "## Get Week No of records"
   ]
  },
  {
   "cell_type": "code",
   "execution_count": 21,
   "id": "724d62d2",
   "metadata": {},
   "outputs": [],
   "source": [
    "import pandas as pd"
   ]
  },
  {
   "cell_type": "code",
   "execution_count": 30,
   "id": "5afa21e1",
   "metadata": {},
   "outputs": [],
   "source": [
    "_data['search_dt'] = pd.to_datetime(_data['search_dt']).dt.date\n",
    "_data['checkin_date'] = pd.to_datetime(_data['checkin_date']).dt.date\n",
    "\n",
    "_data= _data.dropna()\n",
    "\n",
    "_data['checkin_date'] = pd.to_datetime(_data['checkin_date'])\n",
    "_data['search_dt'] = pd.to_datetime(_data['search_dt'])\n",
    "\n",
    "_data['Date_gap'] = _data['checkin_date'] - _data['search_dt']\n",
    " # remove 'days' in 'Date_gap' column\n",
    "_data['Date_gap'] = _data['Date_gap'].astype(str)\n",
    "_data[\"Date_gap\"]= _data[\"Date_gap\"].replace( r\"days\",\"\", regex=True)"
   ]
  },
  {
   "cell_type": "code",
   "execution_count": null,
   "id": "89b1af29",
   "metadata": {},
   "outputs": [],
   "source": [
    "_data=_data[_data.room_rate != 0]\n",
    "_data = _data.reset_index()"
   ]
  },
  {
   "cell_type": "code",
   "execution_count": 37,
   "id": "dee39d95",
   "metadata": {},
   "outputs": [
    {
     "data": {
      "text/html": [
       "<div>\n",
       "<style scoped>\n",
       "    .dataframe tbody tr th:only-of-type {\n",
       "        vertical-align: middle;\n",
       "    }\n",
       "\n",
       "    .dataframe tbody tr th {\n",
       "        vertical-align: top;\n",
       "    }\n",
       "\n",
       "    .dataframe thead th {\n",
       "        text-align: right;\n",
       "    }\n",
       "</style>\n",
       "<table border=\"1\" class=\"dataframe\">\n",
       "  <thead>\n",
       "    <tr style=\"text-align: right;\">\n",
       "      <th></th>\n",
       "      <th>search_dt</th>\n",
       "      <th>checkin_date</th>\n",
       "      <th>property_name</th>\n",
       "      <th>room_type</th>\n",
       "      <th>room_rate</th>\n",
       "      <th>review_score</th>\n",
       "      <th>destination_ID</th>\n",
       "      <th>location_desc</th>\n",
       "      <th>other_info</th>\n",
       "      <th>Date_gap</th>\n",
       "    </tr>\n",
       "  </thead>\n",
       "  <tbody>\n",
       "    <tr>\n",
       "      <th>0</th>\n",
       "      <td>2022-09-09</td>\n",
       "      <td>2022-09-09</td>\n",
       "      <td>Marriott's Grande Vista</td>\n",
       "      <td>King Room with Sofa Bed - Non-Smoking</td>\n",
       "      <td>US$169</td>\n",
       "      <td>8.7</td>\n",
       "      <td>20023488</td>\n",
       "      <td>Sea World Orlando Area, OrlandoShow on map10.6...</td>\n",
       "      <td>King Room with Sofa Bed - Non-Smoking2 beds (1...</td>\n",
       "      <td>0</td>\n",
       "    </tr>\n",
       "    <tr>\n",
       "      <th>1</th>\n",
       "      <td>2022-09-09</td>\n",
       "      <td>2022-09-09</td>\n",
       "      <td>Embassy Suites Orlando - North</td>\n",
       "      <td>King Suite-Hearing Access</td>\n",
       "      <td>US$169</td>\n",
       "      <td>7.9</td>\n",
       "      <td>20023488</td>\n",
       "      <td>OrlandoShow on map8.9 miles from centre</td>\n",
       "      <td>King Suite-Hearing AccessPrivate suite2 beds (...</td>\n",
       "      <td>0</td>\n",
       "    </tr>\n",
       "  </tbody>\n",
       "</table>\n",
       "</div>"
      ],
      "text/plain": [
       "   search_dt checkin_date                   property_name  \\\n",
       "0 2022-09-09   2022-09-09         Marriott's Grande Vista   \n",
       "1 2022-09-09   2022-09-09  Embassy Suites Orlando - North   \n",
       "\n",
       "                               room_type room_rate  review_score  \\\n",
       "0  King Room with Sofa Bed - Non-Smoking    US$169           8.7   \n",
       "1              King Suite-Hearing Access    US$169           7.9   \n",
       "\n",
       "   destination_ID                                      location_desc  \\\n",
       "0        20023488  Sea World Orlando Area, OrlandoShow on map10.6...   \n",
       "1        20023488            OrlandoShow on map8.9 miles from centre   \n",
       "\n",
       "                                          other_info Date_gap  \n",
       "0  King Room with Sofa Bed - Non-Smoking2 beds (1...       0   \n",
       "1  King Suite-Hearing AccessPrivate suite2 beds (...       0   "
      ]
     },
     "execution_count": 37,
     "metadata": {},
     "output_type": "execute_result"
    }
   ],
   "source": [
    "_data.head(2)"
   ]
  },
  {
   "cell_type": "code",
   "execution_count": null,
   "id": "713f1ece",
   "metadata": {},
   "outputs": [],
   "source": []
  },
  {
   "cell_type": "markdown",
   "id": "ecbbe552",
   "metadata": {},
   "source": [
    "## Get room type embeddings "
   ]
  },
  {
   "cell_type": "code",
   "execution_count": 42,
   "id": "2abf2395",
   "metadata": {},
   "outputs": [],
   "source": [
    "from sentence_transformers import SentenceTransformer\n",
    "embedder = SentenceTransformer('distilbert-base-nli-mean-tokens')\n",
    "\n",
    "\n",
    "corpus = list(_data['room_type'])\n",
    "\n",
    "corpus_embeddings = embedder.encode(corpus)\n"
   ]
  },
  {
   "cell_type": "code",
   "execution_count": 44,
   "id": "85cb8b2c",
   "metadata": {},
   "outputs": [],
   "source": [
    "# _se_props = {\n",
    "#     \"NOSTOPWORDS\":True,\n",
    "#     \"LOWER\":True,\n",
    "# }\n",
    "# _sent,_emb = clsNLP.get_sentence_embeddings(\n",
    "#     sentences=_data['property_name'],   # list of word ngrams\n",
    "#     model_name='distilbert-base-nli-mean-tokens',   # https://www.sbert.net/docs/pretrained_models.html\n",
    "#     kwargs=_se_props\n",
    "\n",
    "# )\n",
    "# print(_sent, \"\\n\\n\", _emb)"
   ]
  },
  {
   "cell_type": "markdown",
   "id": "0960eefb",
   "metadata": {},
   "source": [
    "## Label data with kmeans clusters"
   ]
  },
  {
   "cell_type": "code",
   "execution_count": 161,
   "id": "e3f7c17f",
   "metadata": {},
   "outputs": [
    {
     "name": "stdout",
     "output_type": "stream",
     "text": [
      "<class 'numpy.ndarray'>\n"
     ]
    },
    {
     "data": {
      "text/plain": [
       "array([2, 9, 9, ..., 8, 9, 9], dtype=int32)"
      ]
     },
     "execution_count": 161,
     "metadata": {},
     "output_type": "execute_result"
    }
   ],
   "source": [
    "# __category__ = \"KMEANS\"\n",
    "# __columns__ = ['destination_id','review_score']\n",
    "# clust_props = {\n",
    "#     \"NCLUSTERS\":10,\n",
    "#     \"MAXITERATIONS\":200,\n",
    "#     \"CENTROIDINIT\":5,\n",
    "#     \"RANDOMSTATE\":0,\n",
    "# }\n",
    "# _cl_data = clsCL.cluster_n_label_data(\n",
    "#     data = _emb,#_data.dropna(),\n",
    "#     category = __category__,\n",
    "#     columns = __columns__,\n",
    "#     **clust_props\n",
    "# )\n",
    "# clsCL.clusters"
   ]
  },
  {
   "cell_type": "code",
   "execution_count": 47,
   "id": "3684b5ed",
   "metadata": {},
   "outputs": [],
   "source": [
    "from sklearn.cluster import KMeans"
   ]
  },
  {
   "cell_type": "code",
   "execution_count": 48,
   "id": "768f66ac",
   "metadata": {},
   "outputs": [
    {
     "data": {
      "text/plain": [
       "array([1, 4, 7, ..., 7, 7, 0], dtype=int32)"
      ]
     },
     "execution_count": 48,
     "metadata": {},
     "output_type": "execute_result"
    }
   ],
   "source": [
    "\n",
    "num_clusters = 10\n",
    "clustering_model = KMeans(n_clusters=num_clusters)\n",
    "clustering_model.fit(corpus_embeddings)\n",
    "cluster_assignment = clustering_model.labels_\n",
    "cluster_assignment"
   ]
  },
  {
   "cell_type": "code",
   "execution_count": 51,
   "id": "1ba6423c",
   "metadata": {
    "scrolled": false
   },
   "outputs": [
    {
     "data": {
      "text/html": [
       "<div>\n",
       "<style scoped>\n",
       "    .dataframe tbody tr th:only-of-type {\n",
       "        vertical-align: middle;\n",
       "    }\n",
       "\n",
       "    .dataframe tbody tr th {\n",
       "        vertical-align: top;\n",
       "    }\n",
       "\n",
       "    .dataframe thead th {\n",
       "        text-align: right;\n",
       "    }\n",
       "</style>\n",
       "<table border=\"1\" class=\"dataframe\">\n",
       "  <thead>\n",
       "    <tr style=\"text-align: right;\">\n",
       "      <th></th>\n",
       "      <th>corpus</th>\n",
       "      <th>cluster</th>\n",
       "    </tr>\n",
       "  </thead>\n",
       "  <tbody>\n",
       "    <tr>\n",
       "      <th>0</th>\n",
       "      <td>King Room with Sofa Bed - Non-Smoking</td>\n",
       "      <td>1</td>\n",
       "    </tr>\n",
       "    <tr>\n",
       "      <th>1</th>\n",
       "      <td>King Suite-Hearing Access</td>\n",
       "      <td>4</td>\n",
       "    </tr>\n",
       "    <tr>\n",
       "      <th>2</th>\n",
       "      <td>Apartment</td>\n",
       "      <td>7</td>\n",
       "    </tr>\n",
       "    <tr>\n",
       "      <th>3</th>\n",
       "      <td>Guest room, 1 King Bed</td>\n",
       "      <td>0</td>\n",
       "    </tr>\n",
       "    <tr>\n",
       "      <th>4</th>\n",
       "      <td>King Room</td>\n",
       "      <td>4</td>\n",
       "    </tr>\n",
       "  </tbody>\n",
       "</table>\n",
       "</div>"
      ],
      "text/plain": [
       "                                  corpus  cluster\n",
       "0  King Room with Sofa Bed - Non-Smoking        1\n",
       "1              King Suite-Hearing Access        4\n",
       "2                              Apartment        7\n",
       "3                 Guest room, 1 King Bed        0\n",
       "4                              King Room        4"
      ]
     },
     "execution_count": 51,
     "metadata": {},
     "output_type": "execute_result"
    }
   ],
   "source": [
    "cluster_df = pd.DataFrame(corpus, columns = ['corpus'])\n",
    "cluster_df['cluster'] = cluster_assignment\n",
    "cluster_df.head()"
   ]
  },
  {
   "cell_type": "markdown",
   "id": "dceeb0f4",
   "metadata": {},
   "source": [
    "## Combine dataframes with updated room types"
   ]
  },
  {
   "cell_type": "code",
   "execution_count": 55,
   "id": "9b019049",
   "metadata": {},
   "outputs": [],
   "source": [
    "# Merge two Dataframes on index of both the dataframes\n",
    "_data= _data.merge(cluster_df, left_index=True, right_index=True)"
   ]
  },
  {
   "cell_type": "code",
   "execution_count": 57,
   "id": "1fc64ece",
   "metadata": {},
   "outputs": [],
   "source": [
    "_data=_data.drop([ 'index', ], axis=1)"
   ]
  },
  {
   "cell_type": "code",
   "execution_count": 58,
   "id": "a01358be",
   "metadata": {},
   "outputs": [],
   "source": [
    "_data['new_room_type'] = ''\n",
    "room_list=['King suite studio Smoking- city view',\n",
    "'King suite standard studio- 1 Double Delux bed - No smoking',\n",
    "'Queen suite - 2 standard beds-Guest Sofa',\n",
    "'Queen superior suite studio with 2 beds',\n",
    "'Queen suit Delux -2 Double beds - Non Smoking',\n",
    "'King standard superior',\n",
    "'Delux King suite Double bed-city View',\n",
    "'Double Standard delux room 2 Beds - city view',\n",
    "'King - Access Disability ',\n",
    "'King suite with Sofa Dormitory - 1 Bed']\n",
    "\n",
    "\n",
    "for i in range(10):    \n",
    "    _data['new_room_type'][_data[\"cluster\"]==i]=room_list[i]"
   ]
  },
  {
   "cell_type": "code",
   "execution_count": 60,
   "id": "b27971c0",
   "metadata": {},
   "outputs": [
    {
     "data": {
      "text/html": [
       "<div>\n",
       "<style scoped>\n",
       "    .dataframe tbody tr th:only-of-type {\n",
       "        vertical-align: middle;\n",
       "    }\n",
       "\n",
       "    .dataframe tbody tr th {\n",
       "        vertical-align: top;\n",
       "    }\n",
       "\n",
       "    .dataframe thead th {\n",
       "        text-align: right;\n",
       "    }\n",
       "</style>\n",
       "<table border=\"1\" class=\"dataframe\">\n",
       "  <thead>\n",
       "    <tr style=\"text-align: right;\">\n",
       "      <th></th>\n",
       "      <th>search_dt</th>\n",
       "      <th>checkin_date</th>\n",
       "      <th>property_name</th>\n",
       "      <th>room_type</th>\n",
       "      <th>room_rate</th>\n",
       "      <th>review_score</th>\n",
       "      <th>destination_ID</th>\n",
       "      <th>location_desc</th>\n",
       "      <th>other_info</th>\n",
       "      <th>Date_gap</th>\n",
       "      <th>corpus</th>\n",
       "      <th>cluster</th>\n",
       "      <th>new_room_type</th>\n",
       "    </tr>\n",
       "  </thead>\n",
       "  <tbody>\n",
       "    <tr>\n",
       "      <th>0</th>\n",
       "      <td>2022-09-09</td>\n",
       "      <td>2022-09-09</td>\n",
       "      <td>Marriott's Grande Vista</td>\n",
       "      <td>King Room with Sofa Bed - Non-Smoking</td>\n",
       "      <td>US$169</td>\n",
       "      <td>8.7</td>\n",
       "      <td>20023488</td>\n",
       "      <td>Sea World Orlando Area, OrlandoShow on map10.6...</td>\n",
       "      <td>King Room with Sofa Bed - Non-Smoking2 beds (1...</td>\n",
       "      <td>0</td>\n",
       "      <td>King Room with Sofa Bed - Non-Smoking</td>\n",
       "      <td>1</td>\n",
       "      <td>King suite standard studio- 1 Double Delux bed...</td>\n",
       "    </tr>\n",
       "    <tr>\n",
       "      <th>1</th>\n",
       "      <td>2022-09-09</td>\n",
       "      <td>2022-09-09</td>\n",
       "      <td>Embassy Suites Orlando - North</td>\n",
       "      <td>King Suite-Hearing Access</td>\n",
       "      <td>US$169</td>\n",
       "      <td>7.9</td>\n",
       "      <td>20023488</td>\n",
       "      <td>OrlandoShow on map8.9 miles from centre</td>\n",
       "      <td>King Suite-Hearing AccessPrivate suite2 beds (...</td>\n",
       "      <td>0</td>\n",
       "      <td>King Suite-Hearing Access</td>\n",
       "      <td>4</td>\n",
       "      <td>Queen suit Delux -2 Double beds - Non Smoking</td>\n",
       "    </tr>\n",
       "    <tr>\n",
       "      <th>2</th>\n",
       "      <td>2022-09-09</td>\n",
       "      <td>2022-09-09</td>\n",
       "      <td>Cozy 1BR with Two Queen Beds - Pool and Hot Tu...</td>\n",
       "      <td>Apartment</td>\n",
       "      <td>US$77</td>\n",
       "      <td>5.0</td>\n",
       "      <td>20023488</td>\n",
       "      <td>International Drive, OrlandoShow on map7.7 mil...</td>\n",
       "      <td>ApartmentEntire apartment • 1 bedroom • 1 livi...</td>\n",
       "      <td>0</td>\n",
       "      <td>Apartment</td>\n",
       "      <td>7</td>\n",
       "      <td>Double Standard delux room 2 Beds - city view</td>\n",
       "    </tr>\n",
       "    <tr>\n",
       "      <th>3</th>\n",
       "      <td>2022-09-09</td>\n",
       "      <td>2022-09-09</td>\n",
       "      <td>Grand Bohemian Hotel Orlando, Autograph Collec...</td>\n",
       "      <td>Guest room, 1 King Bed</td>\n",
       "      <td>US$229</td>\n",
       "      <td>8.5</td>\n",
       "      <td>20023488</td>\n",
       "      <td>Downtown Orlando, OrlandoShow on map0.4 miles ...</td>\n",
       "      <td>Guest room, 1 King Bed1 extra-large double bed...</td>\n",
       "      <td>0</td>\n",
       "      <td>Guest room, 1 King Bed</td>\n",
       "      <td>0</td>\n",
       "      <td>King suite studio Smoking- city view</td>\n",
       "    </tr>\n",
       "    <tr>\n",
       "      <th>4</th>\n",
       "      <td>2022-09-09</td>\n",
       "      <td>2022-09-09</td>\n",
       "      <td>Quality Inn &amp; Suites Near the Theme Parks</td>\n",
       "      <td>King Room</td>\n",
       "      <td>US$149</td>\n",
       "      <td>7.7</td>\n",
       "      <td>20023488</td>\n",
       "      <td>International Drive, OrlandoShow on map5.6 mil...</td>\n",
       "      <td>King Room1 extra-large double bedBreakfast inc...</td>\n",
       "      <td>0</td>\n",
       "      <td>King Room</td>\n",
       "      <td>4</td>\n",
       "      <td>Queen suit Delux -2 Double beds - Non Smoking</td>\n",
       "    </tr>\n",
       "  </tbody>\n",
       "</table>\n",
       "</div>"
      ],
      "text/plain": [
       "   search_dt checkin_date                                      property_name  \\\n",
       "0 2022-09-09   2022-09-09                            Marriott's Grande Vista   \n",
       "1 2022-09-09   2022-09-09                     Embassy Suites Orlando - North   \n",
       "2 2022-09-09   2022-09-09  Cozy 1BR with Two Queen Beds - Pool and Hot Tu...   \n",
       "3 2022-09-09   2022-09-09  Grand Bohemian Hotel Orlando, Autograph Collec...   \n",
       "4 2022-09-09   2022-09-09          Quality Inn & Suites Near the Theme Parks   \n",
       "\n",
       "                               room_type room_rate  review_score  \\\n",
       "0  King Room with Sofa Bed - Non-Smoking    US$169           8.7   \n",
       "1              King Suite-Hearing Access    US$169           7.9   \n",
       "2                              Apartment     US$77           5.0   \n",
       "3                 Guest room, 1 King Bed    US$229           8.5   \n",
       "4                              King Room    US$149           7.7   \n",
       "\n",
       "   destination_ID                                      location_desc  \\\n",
       "0        20023488  Sea World Orlando Area, OrlandoShow on map10.6...   \n",
       "1        20023488            OrlandoShow on map8.9 miles from centre   \n",
       "2        20023488  International Drive, OrlandoShow on map7.7 mil...   \n",
       "3        20023488  Downtown Orlando, OrlandoShow on map0.4 miles ...   \n",
       "4        20023488  International Drive, OrlandoShow on map5.6 mil...   \n",
       "\n",
       "                                          other_info Date_gap  \\\n",
       "0  King Room with Sofa Bed - Non-Smoking2 beds (1...       0    \n",
       "1  King Suite-Hearing AccessPrivate suite2 beds (...       0    \n",
       "2  ApartmentEntire apartment • 1 bedroom • 1 livi...       0    \n",
       "3  Guest room, 1 King Bed1 extra-large double bed...       0    \n",
       "4  King Room1 extra-large double bedBreakfast inc...       0    \n",
       "\n",
       "                                  corpus  cluster  \\\n",
       "0  King Room with Sofa Bed - Non-Smoking        1   \n",
       "1              King Suite-Hearing Access        4   \n",
       "2                              Apartment        7   \n",
       "3                 Guest room, 1 King Bed        0   \n",
       "4                              King Room        4   \n",
       "\n",
       "                                       new_room_type  \n",
       "0  King suite standard studio- 1 Double Delux bed...  \n",
       "1      Queen suit Delux -2 Double beds - Non Smoking  \n",
       "2      Double Standard delux room 2 Beds - city view  \n",
       "3               King suite studio Smoking- city view  \n",
       "4      Queen suit Delux -2 Double beds - Non Smoking  "
      ]
     },
     "execution_count": 60,
     "metadata": {},
     "output_type": "execute_result"
    }
   ],
   "source": [
    "_data.head()"
   ]
  }
 ],
 "metadata": {
  "kernelspec": {
   "display_name": "Python 3 (ipykernel)",
   "language": "python",
   "name": "python3"
  },
  "language_info": {
   "codemirror_mode": {
    "name": "ipython",
    "version": 3
   },
   "file_extension": ".py",
   "mimetype": "text/x-python",
   "name": "python",
   "nbconvert_exporter": "python",
   "pygments_lexer": "ipython3",
   "version": "3.9.13"
  }
 },
 "nbformat": 4,
 "nbformat_minor": 5
}
