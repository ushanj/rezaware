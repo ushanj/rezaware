{
 "cells": [
  {
   "cell_type": "code",
   "execution_count": 1,
   "id": "412d3358",
   "metadata": {},
   "outputs": [],
   "source": [
    "'''\n",
    "    WARNING CONTROL to display or ignore all warnings\n",
    "'''\n",
    "import warnings; warnings.simplefilter('ignore')     #switch betweeb 'default' and 'ignore'\n",
    "import traceback\n",
    "\n",
    "''' Set debug flag to view extended error messages; else set it to False to turn off debugging mode '''\n",
    "debug = True\n",
    "CWD = \"/home/nuwan/workspace/rezaware\""
   ]
  },
  {
   "cell_type": "code",
   "execution_count": 2,
   "id": "d0e884b1",
   "metadata": {},
   "outputs": [
    {
     "name": "stdout",
     "output_type": "stream",
     "text": [
      "All functional APP-libraries in REZAWARE-package of REZAWARE-module imported successfully!\n",
      "All functional APP-libraries in REZAWARE-package of REZAWARE-module imported successfully!\n"
     ]
    }
   ],
   "source": [
    "import sys\n",
    "sys.path.insert(1,CWD)\n",
    "import rezaware as rez\n",
    "# import rezaware.Config as conf\n",
    "import json\n",
    "\n",
    "if debug:\n",
    "    import importlib\n",
    "    rez=importlib.reload(rez)\n",
    "#     conf=importlib.reload(conf)\n"
   ]
  },
  {
   "cell_type": "code",
   "execution_count": 3,
   "id": "9ae68499",
   "metadata": {},
   "outputs": [
    {
     "name": "stdout",
     "output_type": "stream",
     "text": [
      "Attempt to initializing: utils\n",
      "app Initialization complete for rezaware utils\n"
     ]
    }
   ],
   "source": [
    "_rezApp = rez.App(app_name=\"utils\")"
   ]
  },
  {
   "cell_type": "code",
   "execution_count": 4,
   "id": "ef375aa1",
   "metadata": {
    "scrolled": true
   },
   "outputs": [
    {
     "name": "stdout",
     "output_type": "stream",
     "text": [
      "utils modules \n",
      "[\n",
      "  \"/home/nuwan/workspace/rezaware/utils/modules/etl/load/app.ini\",\n",
      "  \"/home/nuwan/workspace/rezaware/utils/modules/ml/cluster/app.ini\",\n",
      "  \"/home/nuwan/workspace/rezaware/utils/modules/ml/statistics/app.ini\",\n",
      "  \"/home/nuwan/workspace/rezaware/utils/modules/ml/timeseries/app.ini\",\n",
      "  \"/home/nuwan/workspace/rezaware/utils/modules/etl/transform/app.ini\",\n",
      "  \"/home/nuwan/workspace/rezaware/utils/modules/ml/natlang/app.ini\",\n",
      "  \"/home/nuwan/workspace/rezaware/utils/modules/lib/spark/app.ini\",\n",
      "  \"/home/nuwan/workspace/rezaware/utils/modules/lib/basemap/app.ini\",\n",
      "  \"/home/nuwan/workspace/rezaware/utils/modules/ml/dimreduc/app.ini\"\n",
      "]\n"
     ]
    }
   ],
   "source": [
    "ini_file_list = _rezApp.make_ini_files()\n",
    "if ini_file_list:\n",
    "    print(\"%s modules \" % (_rezApp.appName))\n",
    "#     print(json.dumps(app_list,indent=2))\n",
    "    print(json.dumps(ini_file_list,indent=2))"
   ]
  },
  {
   "cell_type": "code",
   "execution_count": 86,
   "id": "fbaa8650",
   "metadata": {},
   "outputs": [],
   "source": [
    "__module__ = \"property\"\n",
    "__package__ = \"pricing\"\n",
    "_rezApp.module = __module__\n",
    "_rezApp.package = __package__\n",
    "logger = _rezApp.get_package_logger()\n",
    "logger.info(\"test\")"
   ]
  },
  {
   "cell_type": "code",
   "execution_count": 17,
   "id": "42449f5e",
   "metadata": {},
   "outputs": [],
   "source": [
    "logger.info(\"another test\")"
   ]
  },
  {
   "cell_type": "code",
   "execution_count": 77,
   "id": "5374620d",
   "metadata": {},
   "outputs": [
    {
     "name": "stdout",
     "output_type": "stream",
     "text": [
      "None\n"
     ]
    }
   ],
   "source": [
    "''' DEPRECATED '''\n",
    "aws_dict = {'AWSAUTH' : [{'awsaccesskey' : \"\",\n",
    "                          'awssecuritykey' : \"\",\n",
    "                          'awsregion' : \"\",\n",
    "                          'awsiampolicy' : \"\",\n",
    "                          'awsiamuser' : \"\"\n",
    "                         }]\n",
    "           }\n",
    "\n",
    "_s_file = rez.Config.set_cfg_file_data(\n",
    "    reza_cwd = '/home/nuwan/workspace/rezaware/',\n",
    "    app_name = 'utils',\n",
    "    conf_file = 'app.cfg',\n",
    "    cfg_dict = aws_dict)\n",
    "print(_s_file)"
   ]
  }
 ],
 "metadata": {
  "kernelspec": {
   "display_name": "Python 3 (ipykernel)",
   "language": "python",
   "name": "python3"
  },
  "language_info": {
   "codemirror_mode": {
    "name": "ipython",
    "version": 3
   },
   "file_extension": ".py",
   "mimetype": "text/x-python",
   "name": "python",
   "nbconvert_exporter": "python",
   "pygments_lexer": "ipython3",
   "version": "3.8.10"
  }
 },
 "nbformat": 4,
 "nbformat_minor": 5
}
